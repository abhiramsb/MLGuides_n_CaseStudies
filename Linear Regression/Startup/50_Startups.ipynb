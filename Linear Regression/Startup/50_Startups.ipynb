{
 "cells": [
  {
   "cell_type": "markdown",
   "id": "d5d69283-b5f1-43b7-9261-9586c3b398f5",
   "metadata": {},
   "source": [
    "# 50_Startups"
   ]
  },
  {
   "cell_type": "markdown",
   "id": "2cb4b424-38c4-4097-a796-66890736376e",
   "metadata": {},
   "source": [
    "**Linear Regression:**\n",
    "XYZ is a venture capital firms in the US. They are planning to invest in some of the potential startups across the US. They have already invested in around fifty startups in Florida, Newyork and California. You are a data analyst at XYZ and you have been asked to build a model that predicts the profitability of the firm’s future investments. Below is the snapshot of the data you have."
   ]
  },
  {
   "cell_type": "code",
   "execution_count": 1,
   "id": "a7f167f0-d163-40a8-847d-d62c1aafff1f",
   "metadata": {},
   "outputs": [],
   "source": [
    "# Suppressing Warnings\n",
    "import warnings\n",
    "warnings.filterwarnings('ignore')"
   ]
  },
  {
   "cell_type": "code",
   "execution_count": 2,
   "id": "5630dbdc-3198-4966-ad74-3c684dcea10c",
   "metadata": {},
   "outputs": [],
   "source": [
    "# Importing Pandas and NumPy\n",
    "import pandas as pd, numpy as np"
   ]
  },
  {
   "cell_type": "code",
   "execution_count": 3,
   "id": "3b06aecf-1713-456a-9863-b537be29e609",
   "metadata": {},
   "outputs": [],
   "source": [
    "md = pd.read_csv(\"50_Startups.csv\")"
   ]
  },
  {
   "cell_type": "code",
   "execution_count": 4,
   "id": "5c7d8d3a-7748-4757-872f-fb49c86c0d60",
   "metadata": {},
   "outputs": [
    {
     "data": {
      "text/html": [
       "<div>\n",
       "<style scoped>\n",
       "    .dataframe tbody tr th:only-of-type {\n",
       "        vertical-align: middle;\n",
       "    }\n",
       "\n",
       "    .dataframe tbody tr th {\n",
       "        vertical-align: top;\n",
       "    }\n",
       "\n",
       "    .dataframe thead th {\n",
       "        text-align: right;\n",
       "    }\n",
       "</style>\n",
       "<table border=\"1\" class=\"dataframe\">\n",
       "  <thead>\n",
       "    <tr style=\"text-align: right;\">\n",
       "      <th></th>\n",
       "      <th>R&amp;D Spend</th>\n",
       "      <th>Administration</th>\n",
       "      <th>Marketing Spend</th>\n",
       "      <th>State</th>\n",
       "      <th>Profit</th>\n",
       "    </tr>\n",
       "  </thead>\n",
       "  <tbody>\n",
       "    <tr>\n",
       "      <th>0</th>\n",
       "      <td>165349.20</td>\n",
       "      <td>136897.80</td>\n",
       "      <td>471784.10</td>\n",
       "      <td>New York</td>\n",
       "      <td>192261.83</td>\n",
       "    </tr>\n",
       "    <tr>\n",
       "      <th>1</th>\n",
       "      <td>162597.70</td>\n",
       "      <td>151377.59</td>\n",
       "      <td>443898.53</td>\n",
       "      <td>California</td>\n",
       "      <td>191792.06</td>\n",
       "    </tr>\n",
       "    <tr>\n",
       "      <th>2</th>\n",
       "      <td>153441.51</td>\n",
       "      <td>101145.55</td>\n",
       "      <td>407934.54</td>\n",
       "      <td>Florida</td>\n",
       "      <td>191050.39</td>\n",
       "    </tr>\n",
       "    <tr>\n",
       "      <th>3</th>\n",
       "      <td>144372.41</td>\n",
       "      <td>118671.85</td>\n",
       "      <td>383199.62</td>\n",
       "      <td>New York</td>\n",
       "      <td>182901.99</td>\n",
       "    </tr>\n",
       "    <tr>\n",
       "      <th>4</th>\n",
       "      <td>142107.34</td>\n",
       "      <td>91391.77</td>\n",
       "      <td>366168.42</td>\n",
       "      <td>Florida</td>\n",
       "      <td>166187.94</td>\n",
       "    </tr>\n",
       "  </tbody>\n",
       "</table>\n",
       "</div>"
      ],
      "text/plain": [
       "   R&D Spend  Administration  Marketing Spend       State     Profit\n",
       "0  165349.20       136897.80        471784.10    New York  192261.83\n",
       "1  162597.70       151377.59        443898.53  California  191792.06\n",
       "2  153441.51       101145.55        407934.54     Florida  191050.39\n",
       "3  144372.41       118671.85        383199.62    New York  182901.99\n",
       "4  142107.34        91391.77        366168.42     Florida  166187.94"
      ]
     },
     "execution_count": 4,
     "metadata": {},
     "output_type": "execute_result"
    }
   ],
   "source": [
    "md.head()"
   ]
  },
  {
   "cell_type": "code",
   "execution_count": 5,
   "id": "37d468ec-1ee4-4ce2-bb9e-48246c02f25d",
   "metadata": {},
   "outputs": [
    {
     "name": "stdout",
     "output_type": "stream",
     "text": [
      "<class 'pandas.core.frame.DataFrame'>\n",
      "RangeIndex: 50 entries, 0 to 49\n",
      "Data columns (total 5 columns):\n",
      " #   Column           Non-Null Count  Dtype  \n",
      "---  ------           --------------  -----  \n",
      " 0   R&D Spend        50 non-null     float64\n",
      " 1   Administration   50 non-null     float64\n",
      " 2   Marketing Spend  50 non-null     float64\n",
      " 3   State            50 non-null     object \n",
      " 4   Profit           50 non-null     float64\n",
      "dtypes: float64(4), object(1)\n",
      "memory usage: 2.1+ KB\n"
     ]
    }
   ],
   "source": [
    "md.info()"
   ]
  },
  {
   "cell_type": "code",
   "execution_count": 6,
   "id": "8b5190f0-8599-4fc6-9b14-bfd6f7811cc5",
   "metadata": {},
   "outputs": [
    {
     "data": {
      "text/plain": [
       "array(['New York', 'California', 'Florida'], dtype=object)"
      ]
     },
     "execution_count": 6,
     "metadata": {},
     "output_type": "execute_result"
    }
   ],
   "source": [
    "md.State.unique()"
   ]
  },
  {
   "cell_type": "code",
   "execution_count": 7,
   "id": "dbbfb205-0d75-4af5-9371-ae1260b94ff5",
   "metadata": {},
   "outputs": [
    {
     "data": {
      "text/html": [
       "<div>\n",
       "<style scoped>\n",
       "    .dataframe tbody tr th:only-of-type {\n",
       "        vertical-align: middle;\n",
       "    }\n",
       "\n",
       "    .dataframe tbody tr th {\n",
       "        vertical-align: top;\n",
       "    }\n",
       "\n",
       "    .dataframe thead th {\n",
       "        text-align: right;\n",
       "    }\n",
       "</style>\n",
       "<table border=\"1\" class=\"dataframe\">\n",
       "  <thead>\n",
       "    <tr style=\"text-align: right;\">\n",
       "      <th></th>\n",
       "      <th>Florida</th>\n",
       "      <th>New York</th>\n",
       "    </tr>\n",
       "  </thead>\n",
       "  <tbody>\n",
       "    <tr>\n",
       "      <th>0</th>\n",
       "      <td>0</td>\n",
       "      <td>1</td>\n",
       "    </tr>\n",
       "    <tr>\n",
       "      <th>1</th>\n",
       "      <td>0</td>\n",
       "      <td>0</td>\n",
       "    </tr>\n",
       "    <tr>\n",
       "      <th>2</th>\n",
       "      <td>1</td>\n",
       "      <td>0</td>\n",
       "    </tr>\n",
       "    <tr>\n",
       "      <th>3</th>\n",
       "      <td>0</td>\n",
       "      <td>1</td>\n",
       "    </tr>\n",
       "    <tr>\n",
       "      <th>4</th>\n",
       "      <td>1</td>\n",
       "      <td>0</td>\n",
       "    </tr>\n",
       "  </tbody>\n",
       "</table>\n",
       "</div>"
      ],
      "text/plain": [
       "   Florida  New York\n",
       "0        0         1\n",
       "1        0         0\n",
       "2        1         0\n",
       "3        0         1\n",
       "4        1         0"
      ]
     },
     "execution_count": 7,
     "metadata": {},
     "output_type": "execute_result"
    }
   ],
   "source": [
    "dummy = pd.get_dummies(md.State, drop_first = True)\n",
    "dummy.head()"
   ]
  },
  {
   "cell_type": "code",
   "execution_count": 8,
   "id": "89b37f5d-0d23-458c-b730-88490a9ffde7",
   "metadata": {},
   "outputs": [
    {
     "data": {
      "text/html": [
       "<div>\n",
       "<style scoped>\n",
       "    .dataframe tbody tr th:only-of-type {\n",
       "        vertical-align: middle;\n",
       "    }\n",
       "\n",
       "    .dataframe tbody tr th {\n",
       "        vertical-align: top;\n",
       "    }\n",
       "\n",
       "    .dataframe thead th {\n",
       "        text-align: right;\n",
       "    }\n",
       "</style>\n",
       "<table border=\"1\" class=\"dataframe\">\n",
       "  <thead>\n",
       "    <tr style=\"text-align: right;\">\n",
       "      <th></th>\n",
       "      <th>R&amp;D Spend</th>\n",
       "      <th>Administration</th>\n",
       "      <th>Marketing Spend</th>\n",
       "      <th>State</th>\n",
       "      <th>Profit</th>\n",
       "      <th>Florida</th>\n",
       "      <th>New York</th>\n",
       "    </tr>\n",
       "  </thead>\n",
       "  <tbody>\n",
       "    <tr>\n",
       "      <th>0</th>\n",
       "      <td>165349.20</td>\n",
       "      <td>136897.80</td>\n",
       "      <td>471784.10</td>\n",
       "      <td>New York</td>\n",
       "      <td>192261.83</td>\n",
       "      <td>0</td>\n",
       "      <td>1</td>\n",
       "    </tr>\n",
       "    <tr>\n",
       "      <th>1</th>\n",
       "      <td>162597.70</td>\n",
       "      <td>151377.59</td>\n",
       "      <td>443898.53</td>\n",
       "      <td>California</td>\n",
       "      <td>191792.06</td>\n",
       "      <td>0</td>\n",
       "      <td>0</td>\n",
       "    </tr>\n",
       "    <tr>\n",
       "      <th>2</th>\n",
       "      <td>153441.51</td>\n",
       "      <td>101145.55</td>\n",
       "      <td>407934.54</td>\n",
       "      <td>Florida</td>\n",
       "      <td>191050.39</td>\n",
       "      <td>1</td>\n",
       "      <td>0</td>\n",
       "    </tr>\n",
       "    <tr>\n",
       "      <th>3</th>\n",
       "      <td>144372.41</td>\n",
       "      <td>118671.85</td>\n",
       "      <td>383199.62</td>\n",
       "      <td>New York</td>\n",
       "      <td>182901.99</td>\n",
       "      <td>0</td>\n",
       "      <td>1</td>\n",
       "    </tr>\n",
       "    <tr>\n",
       "      <th>4</th>\n",
       "      <td>142107.34</td>\n",
       "      <td>91391.77</td>\n",
       "      <td>366168.42</td>\n",
       "      <td>Florida</td>\n",
       "      <td>166187.94</td>\n",
       "      <td>1</td>\n",
       "      <td>0</td>\n",
       "    </tr>\n",
       "  </tbody>\n",
       "</table>\n",
       "</div>"
      ],
      "text/plain": [
       "   R&D Spend  Administration  Marketing Spend       State     Profit  Florida  \\\n",
       "0  165349.20       136897.80        471784.10    New York  192261.83        0   \n",
       "1  162597.70       151377.59        443898.53  California  191792.06        0   \n",
       "2  153441.51       101145.55        407934.54     Florida  191050.39        1   \n",
       "3  144372.41       118671.85        383199.62    New York  182901.99        0   \n",
       "4  142107.34        91391.77        366168.42     Florida  166187.94        1   \n",
       "\n",
       "   New York  \n",
       "0         1  \n",
       "1         0  \n",
       "2         0  \n",
       "3         1  \n",
       "4         0  "
      ]
     },
     "execution_count": 8,
     "metadata": {},
     "output_type": "execute_result"
    }
   ],
   "source": [
    "md = pd.concat([md, dummy], axis = 1)\n",
    "md.head()"
   ]
  },
  {
   "cell_type": "code",
   "execution_count": 9,
   "id": "d8ba2c8b-b4b6-49d4-8db3-d0e5c172b047",
   "metadata": {},
   "outputs": [
    {
     "data": {
      "text/html": [
       "<div>\n",
       "<style scoped>\n",
       "    .dataframe tbody tr th:only-of-type {\n",
       "        vertical-align: middle;\n",
       "    }\n",
       "\n",
       "    .dataframe tbody tr th {\n",
       "        vertical-align: top;\n",
       "    }\n",
       "\n",
       "    .dataframe thead th {\n",
       "        text-align: right;\n",
       "    }\n",
       "</style>\n",
       "<table border=\"1\" class=\"dataframe\">\n",
       "  <thead>\n",
       "    <tr style=\"text-align: right;\">\n",
       "      <th></th>\n",
       "      <th>R&amp;D Spend</th>\n",
       "      <th>Administration</th>\n",
       "      <th>Marketing Spend</th>\n",
       "      <th>Profit</th>\n",
       "      <th>Florida</th>\n",
       "      <th>New York</th>\n",
       "    </tr>\n",
       "  </thead>\n",
       "  <tbody>\n",
       "    <tr>\n",
       "      <th>0</th>\n",
       "      <td>165349.20</td>\n",
       "      <td>136897.80</td>\n",
       "      <td>471784.10</td>\n",
       "      <td>192261.83</td>\n",
       "      <td>0</td>\n",
       "      <td>1</td>\n",
       "    </tr>\n",
       "    <tr>\n",
       "      <th>1</th>\n",
       "      <td>162597.70</td>\n",
       "      <td>151377.59</td>\n",
       "      <td>443898.53</td>\n",
       "      <td>191792.06</td>\n",
       "      <td>0</td>\n",
       "      <td>0</td>\n",
       "    </tr>\n",
       "    <tr>\n",
       "      <th>2</th>\n",
       "      <td>153441.51</td>\n",
       "      <td>101145.55</td>\n",
       "      <td>407934.54</td>\n",
       "      <td>191050.39</td>\n",
       "      <td>1</td>\n",
       "      <td>0</td>\n",
       "    </tr>\n",
       "    <tr>\n",
       "      <th>3</th>\n",
       "      <td>144372.41</td>\n",
       "      <td>118671.85</td>\n",
       "      <td>383199.62</td>\n",
       "      <td>182901.99</td>\n",
       "      <td>0</td>\n",
       "      <td>1</td>\n",
       "    </tr>\n",
       "    <tr>\n",
       "      <th>4</th>\n",
       "      <td>142107.34</td>\n",
       "      <td>91391.77</td>\n",
       "      <td>366168.42</td>\n",
       "      <td>166187.94</td>\n",
       "      <td>1</td>\n",
       "      <td>0</td>\n",
       "    </tr>\n",
       "  </tbody>\n",
       "</table>\n",
       "</div>"
      ],
      "text/plain": [
       "   R&D Spend  Administration  Marketing Spend     Profit  Florida  New York\n",
       "0  165349.20       136897.80        471784.10  192261.83        0         1\n",
       "1  162597.70       151377.59        443898.53  191792.06        0         0\n",
       "2  153441.51       101145.55        407934.54  191050.39        1         0\n",
       "3  144372.41       118671.85        383199.62  182901.99        0         1\n",
       "4  142107.34        91391.77        366168.42  166187.94        1         0"
      ]
     },
     "execution_count": 9,
     "metadata": {},
     "output_type": "execute_result"
    }
   ],
   "source": [
    "md = md.drop([\"State\"], axis = 1)\n",
    "md.head()"
   ]
  },
  {
   "cell_type": "markdown",
   "id": "c8453b7d-8028-4cf8-b604-c819d7717c66",
   "metadata": {},
   "source": [
    "## Test Train Split"
   ]
  },
  {
   "cell_type": "code",
   "execution_count": 11,
   "id": "4dc54f0b-62ee-4a6b-b434-8fb3420c185c",
   "metadata": {},
   "outputs": [],
   "source": [
    "from sklearn.model_selection import train_test_split"
   ]
  },
  {
   "cell_type": "code",
   "execution_count": 12,
   "id": "cc84fb6a-9535-498b-b759-4bfb1ebf9704",
   "metadata": {},
   "outputs": [
    {
     "name": "stdout",
     "output_type": "stream",
     "text": [
      "(35, 6)\n",
      "(15, 6)\n"
     ]
    }
   ],
   "source": [
    "# from sklearn.model_selection import train_test_split\n",
    "\n",
    "# We specify this so that the train and test data set always have the same rows, respectively\n",
    "# np.random.seed(0)\n",
    "md_train, md_test = train_test_split(md, train_size = 0.7, test_size = 0.3, \n",
    "                                     random_state = 100)\n",
    "print(md_train.shape)\n",
    "print(md_test.shape)"
   ]
  },
  {
   "cell_type": "markdown",
   "id": "565d47d4-decc-4d70-b3ec-ef27438fc25a",
   "metadata": {},
   "source": [
    "## Looking for Correlations"
   ]
  },
  {
   "cell_type": "code",
   "execution_count": 13,
   "id": "1aeb216a-0632-4e03-9655-a3204dd74e0b",
   "metadata": {},
   "outputs": [],
   "source": [
    "# Importing matplotlib and seaborn\n",
    "import matplotlib.pyplot as plt\n",
    "import seaborn as sns\n",
    "%matplotlib inline"
   ]
  },
  {
   "cell_type": "code",
   "execution_count": 14,
   "id": "13cf1d7e-2698-476a-9435-df0213f297d3",
   "metadata": {},
   "outputs": [
    {
     "data": {
      "image/png": "[encoded data removed]",
      "text/plain": [
       "<Figure size 1440x720 with 2 Axes>"
      ]
     },
     "metadata": {
      "needs_background": "light"
     },
     "output_type": "display_data"
    }
   ],
   "source": [
    "# Let's see the correlation matrix \n",
    "plt.figure(figsize = (20,10))        # Size of the figure\n",
    "sns.heatmap(md_train.corr(),annot = True)\n",
    "plt.show()"
   ]
  },
  {
   "cell_type": "code",
   "execution_count": 15,
   "id": "56493484-6b3c-4635-a8f9-ac7a92212577",
   "metadata": {},
   "outputs": [
    {
     "data": {
      "text/plain": [
       "<AxesSubplot:>"
      ]
     },
     "execution_count": 15,
     "metadata": {},
     "output_type": "execute_result"
    },
    {
     "data": {
      "image/png": "[encoded data removed]",
      "text/plain": [
       "<Figure size 432x288 with 1 Axes>"
      ]
     },
     "metadata": {
      "needs_background": "light"
     },
     "output_type": "display_data"
    }
   ],
   "source": [
    "md[\"Profit\"].hist()"
   ]
  },
  {
   "cell_type": "code",
   "execution_count": 16,
   "id": "9524fce0-7906-46a1-9c67-7c7e30e74cda",
   "metadata": {},
   "outputs": [
    {
     "data": {
      "text/html": [
       "<div>\n",
       "<style scoped>\n",
       "    .dataframe tbody tr th:only-of-type {\n",
       "        vertical-align: middle;\n",
       "    }\n",
       "\n",
       "    .dataframe tbody tr th {\n",
       "        vertical-align: top;\n",
       "    }\n",
       "\n",
       "    .dataframe thead th {\n",
       "        text-align: right;\n",
       "    }\n",
       "</style>\n",
       "<table border=\"1\" class=\"dataframe\">\n",
       "  <thead>\n",
       "    <tr style=\"text-align: right;\">\n",
       "      <th></th>\n",
       "      <th>R&amp;D Spend</th>\n",
       "      <th>Administration</th>\n",
       "      <th>Marketing Spend</th>\n",
       "      <th>Profit</th>\n",
       "      <th>Florida</th>\n",
       "      <th>New York</th>\n",
       "    </tr>\n",
       "  </thead>\n",
       "  <tbody>\n",
       "    <tr>\n",
       "      <th>count</th>\n",
       "      <td>35.000000</td>\n",
       "      <td>35.000000</td>\n",
       "      <td>35.000000</td>\n",
       "      <td>35.000000</td>\n",
       "      <td>35.000000</td>\n",
       "      <td>35.000000</td>\n",
       "    </tr>\n",
       "    <tr>\n",
       "      <th>mean</th>\n",
       "      <td>78025.959429</td>\n",
       "      <td>124822.508571</td>\n",
       "      <td>217107.068571</td>\n",
       "      <td>115012.672286</td>\n",
       "      <td>0.342857</td>\n",
       "      <td>0.342857</td>\n",
       "    </tr>\n",
       "    <tr>\n",
       "      <th>std</th>\n",
       "      <td>43137.808375</td>\n",
       "      <td>25945.934687</td>\n",
       "      <td>121471.889314</td>\n",
       "      <td>38476.690544</td>\n",
       "      <td>0.481594</td>\n",
       "      <td>0.481594</td>\n",
       "    </tr>\n",
       "    <tr>\n",
       "      <th>min</th>\n",
       "      <td>0.000000</td>\n",
       "      <td>51743.150000</td>\n",
       "      <td>0.000000</td>\n",
       "      <td>35673.410000</td>\n",
       "      <td>0.000000</td>\n",
       "      <td>0.000000</td>\n",
       "    </tr>\n",
       "    <tr>\n",
       "      <th>25%</th>\n",
       "      <td>53781.225000</td>\n",
       "      <td>109636.640000</td>\n",
       "      <td>136006.345000</td>\n",
       "      <td>97070.320000</td>\n",
       "      <td>0.000000</td>\n",
       "      <td>0.000000</td>\n",
       "    </tr>\n",
       "    <tr>\n",
       "      <th>50%</th>\n",
       "      <td>75328.870000</td>\n",
       "      <td>127320.380000</td>\n",
       "      <td>249839.440000</td>\n",
       "      <td>108733.990000</td>\n",
       "      <td>0.000000</td>\n",
       "      <td>0.000000</td>\n",
       "    </tr>\n",
       "    <tr>\n",
       "      <th>75%</th>\n",
       "      <td>108218.345000</td>\n",
       "      <td>147124.505000</td>\n",
       "      <td>304043.995000</td>\n",
       "      <td>137946.435000</td>\n",
       "      <td>1.000000</td>\n",
       "      <td>1.000000</td>\n",
       "    </tr>\n",
       "    <tr>\n",
       "      <th>max</th>\n",
       "      <td>162597.700000</td>\n",
       "      <td>157693.920000</td>\n",
       "      <td>443898.530000</td>\n",
       "      <td>191792.060000</td>\n",
       "      <td>1.000000</td>\n",
       "      <td>1.000000</td>\n",
       "    </tr>\n",
       "  </tbody>\n",
       "</table>\n",
       "</div>"
      ],
      "text/plain": [
       "           R&D Spend  Administration  Marketing Spend         Profit  \\\n",
       "count      35.000000       35.000000        35.000000      35.000000   \n",
       "mean    78025.959429   124822.508571    217107.068571  115012.672286   \n",
       "std     43137.808375    25945.934687    121471.889314   38476.690544   \n",
       "min         0.000000    51743.150000         0.000000   35673.410000   \n",
       "25%     53781.225000   109636.640000    136006.345000   97070.320000   \n",
       "50%     75328.870000   127320.380000    249839.440000  108733.990000   \n",
       "75%    108218.345000   147124.505000    304043.995000  137946.435000   \n",
       "max    162597.700000   157693.920000    443898.530000  191792.060000   \n",
       "\n",
       "         Florida   New York  \n",
       "count  35.000000  35.000000  \n",
       "mean    0.342857   0.342857  \n",
       "std     0.481594   0.481594  \n",
       "min     0.000000   0.000000  \n",
       "25%     0.000000   0.000000  \n",
       "50%     0.000000   0.000000  \n",
       "75%     1.000000   1.000000  \n",
       "max     1.000000   1.000000  "
      ]
     },
     "execution_count": 16,
     "metadata": {},
     "output_type": "execute_result"
    }
   ],
   "source": [
    "md_train.describe()"
   ]
  },
  {
   "cell_type": "markdown",
   "id": "65a8fe8d-4d35-4be7-b9b3-9774f59b9960",
   "metadata": {},
   "source": [
    "## Feature Scaling"
   ]
  },
  {
   "cell_type": "code",
   "execution_count": 18,
   "id": "da505219-390f-448d-a43e-139afc035efe",
   "metadata": {},
   "outputs": [],
   "source": [
    "from sklearn.preprocessing import StandardScaler"
   ]
  },
  {
   "cell_type": "code",
   "execution_count": 19,
   "id": "78802b16-96b5-4b49-84a4-087c8eec6f80",
   "metadata": {},
   "outputs": [
    {
     "data": {
      "text/html": [
       "<div>\n",
       "<style scoped>\n",
       "    .dataframe tbody tr th:only-of-type {\n",
       "        vertical-align: middle;\n",
       "    }\n",
       "\n",
       "    .dataframe tbody tr th {\n",
       "        vertical-align: top;\n",
       "    }\n",
       "\n",
       "    .dataframe thead th {\n",
       "        text-align: right;\n",
       "    }\n",
       "</style>\n",
       "<table border=\"1\" class=\"dataframe\">\n",
       "  <thead>\n",
       "    <tr style=\"text-align: right;\">\n",
       "      <th></th>\n",
       "      <th>R&amp;D Spend</th>\n",
       "      <th>Administration</th>\n",
       "      <th>Marketing Spend</th>\n",
       "      <th>Profit</th>\n",
       "      <th>Florida</th>\n",
       "      <th>New York</th>\n",
       "    </tr>\n",
       "  </thead>\n",
       "  <tbody>\n",
       "    <tr>\n",
       "      <th>25</th>\n",
       "      <td>-0.314256</td>\n",
       "      <td>0.576033</td>\n",
       "      <td>-0.661057</td>\n",
       "      <td>-0.200626</td>\n",
       "      <td>0</td>\n",
       "      <td>0</td>\n",
       "    </tr>\n",
       "    <tr>\n",
       "      <th>26</th>\n",
       "      <td>-0.063435</td>\n",
       "      <td>0.755241</td>\n",
       "      <td>-0.693737</td>\n",
       "      <td>-0.244683</td>\n",
       "      <td>1</td>\n",
       "      <td>0</td>\n",
       "    </tr>\n",
       "    <tr>\n",
       "      <th>35</th>\n",
       "      <td>-0.752919</td>\n",
       "      <td>-1.555379</td>\n",
       "      <td>-0.096801</td>\n",
       "      <td>-0.488705</td>\n",
       "      <td>0</td>\n",
       "      <td>1</td>\n",
       "    </tr>\n",
       "    <tr>\n",
       "      <th>17</th>\n",
       "      <td>0.391165</td>\n",
       "      <td>0.792062</td>\n",
       "      <td>0.546818</td>\n",
       "      <td>0.273124</td>\n",
       "      <td>0</td>\n",
       "      <td>1</td>\n",
       "    </tr>\n",
       "    <tr>\n",
       "      <th>7</th>\n",
       "      <td>1.229439</td>\n",
       "      <td>0.809756</td>\n",
       "      <td>0.891798</td>\n",
       "      <td>1.074279</td>\n",
       "      <td>1</td>\n",
       "      <td>0</td>\n",
       "    </tr>\n",
       "  </tbody>\n",
       "</table>\n",
       "</div>"
      ],
      "text/plain": [
       "    R&D Spend  Administration  Marketing Spend    Profit  Florida  New York\n",
       "25  -0.314256        0.576033        -0.661057 -0.200626        0         0\n",
       "26  -0.063435        0.755241        -0.693737 -0.244683        1         0\n",
       "35  -0.752919       -1.555379        -0.096801 -0.488705        0         1\n",
       "17   0.391165        0.792062         0.546818  0.273124        0         1\n",
       "7    1.229439        0.809756         0.891798  1.074279        1         0"
      ]
     },
     "execution_count": 19,
     "metadata": {},
     "output_type": "execute_result"
    }
   ],
   "source": [
    "scaler = StandardScaler()\n",
    "\n",
    "md_train[['R&D Spend','Administration','Marketing Spend', 'Profit']] = scaler.fit_transform(md_train[['R&D Spend','Administration','Marketing Spend', 'Profit']])\n",
    "\n",
    "md_train.head()"
   ]
  },
  {
   "cell_type": "markdown",
   "id": "86cb6209-2cdd-4196-8733-c9c4ee1821d6",
   "metadata": {},
   "source": [
    "## Dividing into X and Y sets for the model building"
   ]
  },
  {
   "cell_type": "code",
   "execution_count": 20,
   "id": "4ba18a1c-653c-41ec-8fec-2c0223ef799c",
   "metadata": {},
   "outputs": [],
   "source": [
    "y_train = md_train.pop('Profit')\n",
    "X_train = md_train"
   ]
  },
  {
   "cell_type": "code",
   "execution_count": 21,
   "id": "e5842f6e-14d8-4c03-8fde-67ff1d742650",
   "metadata": {},
   "outputs": [
    {
     "data": {
      "text/plain": [
       "25   -0.200626\n",
       "26   -0.244683\n",
       "35   -0.488705\n",
       "17    0.273124\n",
       "7     1.074279\n",
       "Name: Profit, dtype: float64"
      ]
     },
     "execution_count": 21,
     "metadata": {},
     "output_type": "execute_result"
    }
   ],
   "source": [
    "y_train.head()"
   ]
  },
  {
   "cell_type": "code",
   "execution_count": 22,
   "id": "2049b5c8-8ec1-4785-ba93-39edcd37c07d",
   "metadata": {},
   "outputs": [
    {
     "data": {
      "text/html": [
       "<div>\n",
       "<style scoped>\n",
       "    .dataframe tbody tr th:only-of-type {\n",
       "        vertical-align: middle;\n",
       "    }\n",
       "\n",
       "    .dataframe tbody tr th {\n",
       "        vertical-align: top;\n",
       "    }\n",
       "\n",
       "    .dataframe thead th {\n",
       "        text-align: right;\n",
       "    }\n",
       "</style>\n",
       "<table border=\"1\" class=\"dataframe\">\n",
       "  <thead>\n",
       "    <tr style=\"text-align: right;\">\n",
       "      <th></th>\n",
       "      <th>R&amp;D Spend</th>\n",
       "      <th>Administration</th>\n",
       "      <th>Marketing Spend</th>\n",
       "      <th>Florida</th>\n",
       "      <th>New York</th>\n",
       "    </tr>\n",
       "  </thead>\n",
       "  <tbody>\n",
       "    <tr>\n",
       "      <th>25</th>\n",
       "      <td>-0.314256</td>\n",
       "      <td>0.576033</td>\n",
       "      <td>-0.661057</td>\n",
       "      <td>0</td>\n",
       "      <td>0</td>\n",
       "    </tr>\n",
       "    <tr>\n",
       "      <th>26</th>\n",
       "      <td>-0.063435</td>\n",
       "      <td>0.755241</td>\n",
       "      <td>-0.693737</td>\n",
       "      <td>1</td>\n",
       "      <td>0</td>\n",
       "    </tr>\n",
       "    <tr>\n",
       "      <th>35</th>\n",
       "      <td>-0.752919</td>\n",
       "      <td>-1.555379</td>\n",
       "      <td>-0.096801</td>\n",
       "      <td>0</td>\n",
       "      <td>1</td>\n",
       "    </tr>\n",
       "    <tr>\n",
       "      <th>17</th>\n",
       "      <td>0.391165</td>\n",
       "      <td>0.792062</td>\n",
       "      <td>0.546818</td>\n",
       "      <td>0</td>\n",
       "      <td>1</td>\n",
       "    </tr>\n",
       "    <tr>\n",
       "      <th>7</th>\n",
       "      <td>1.229439</td>\n",
       "      <td>0.809756</td>\n",
       "      <td>0.891798</td>\n",
       "      <td>1</td>\n",
       "      <td>0</td>\n",
       "    </tr>\n",
       "  </tbody>\n",
       "</table>\n",
       "</div>"
      ],
      "text/plain": [
       "    R&D Spend  Administration  Marketing Spend  Florida  New York\n",
       "25  -0.314256        0.576033        -0.661057        0         0\n",
       "26  -0.063435        0.755241        -0.693737        1         0\n",
       "35  -0.752919       -1.555379        -0.096801        0         1\n",
       "17   0.391165        0.792062         0.546818        0         1\n",
       "7    1.229439        0.809756         0.891798        1         0"
      ]
     },
     "execution_count": 22,
     "metadata": {},
     "output_type": "execute_result"
    }
   ],
   "source": [
    "X_train.head()"
   ]
  },
  {
   "cell_type": "markdown",
   "id": "c93671d8-f7f2-4679-ae34-c5ee8aa40c30",
   "metadata": {},
   "source": [
    "## Building a linear model"
   ]
  },
  {
   "cell_type": "markdown",
   "id": "85f03084-235f-41d6-9c24-aaa7e4b00381",
   "metadata": {},
   "source": [
    "Fit a regression line through the training data using statsmodels. Remember that in statsmodels, you need to explicitly fit a constant using sm.add_constant(X) because if we don't perform this step, statsmodels fits a regression line passing through the origin, by default."
   ]
  },
  {
   "cell_type": "code",
   "execution_count": 24,
   "id": "e3171673-320e-4ff1-8b9a-9966db2b20b6",
   "metadata": {},
   "outputs": [],
   "source": [
    "import statsmodels.api as sm"
   ]
  },
  {
   "cell_type": "code",
   "execution_count": 25,
   "id": "20dc5fed-b3e9-4aec-9340-6018030e96f8",
   "metadata": {},
   "outputs": [
    {
     "data": {
      "text/html": [
       "<div>\n",
       "<style scoped>\n",
       "    .dataframe tbody tr th:only-of-type {\n",
       "        vertical-align: middle;\n",
       "    }\n",
       "\n",
       "    .dataframe tbody tr th {\n",
       "        vertical-align: top;\n",
       "    }\n",
       "\n",
       "    .dataframe thead th {\n",
       "        text-align: right;\n",
       "    }\n",
       "</style>\n",
       "<table border=\"1\" class=\"dataframe\">\n",
       "  <thead>\n",
       "    <tr style=\"text-align: right;\">\n",
       "      <th></th>\n",
       "      <th>const</th>\n",
       "      <th>R&amp;D Spend</th>\n",
       "      <th>Administration</th>\n",
       "      <th>Marketing Spend</th>\n",
       "      <th>Florida</th>\n",
       "      <th>New York</th>\n",
       "    </tr>\n",
       "  </thead>\n",
       "  <tbody>\n",
       "    <tr>\n",
       "      <th>25</th>\n",
       "      <td>1.0</td>\n",
       "      <td>-0.314256</td>\n",
       "      <td>0.576033</td>\n",
       "      <td>-0.661057</td>\n",
       "      <td>0</td>\n",
       "      <td>0</td>\n",
       "    </tr>\n",
       "    <tr>\n",
       "      <th>26</th>\n",
       "      <td>1.0</td>\n",
       "      <td>-0.063435</td>\n",
       "      <td>0.755241</td>\n",
       "      <td>-0.693737</td>\n",
       "      <td>1</td>\n",
       "      <td>0</td>\n",
       "    </tr>\n",
       "    <tr>\n",
       "      <th>35</th>\n",
       "      <td>1.0</td>\n",
       "      <td>-0.752919</td>\n",
       "      <td>-1.555379</td>\n",
       "      <td>-0.096801</td>\n",
       "      <td>0</td>\n",
       "      <td>1</td>\n",
       "    </tr>\n",
       "    <tr>\n",
       "      <th>17</th>\n",
       "      <td>1.0</td>\n",
       "      <td>0.391165</td>\n",
       "      <td>0.792062</td>\n",
       "      <td>0.546818</td>\n",
       "      <td>0</td>\n",
       "      <td>1</td>\n",
       "    </tr>\n",
       "    <tr>\n",
       "      <th>7</th>\n",
       "      <td>1.0</td>\n",
       "      <td>1.229439</td>\n",
       "      <td>0.809756</td>\n",
       "      <td>0.891798</td>\n",
       "      <td>1</td>\n",
       "      <td>0</td>\n",
       "    </tr>\n",
       "  </tbody>\n",
       "</table>\n",
       "</div>"
      ],
      "text/plain": [
       "    const  R&D Spend  Administration  Marketing Spend  Florida  New York\n",
       "25    1.0  -0.314256        0.576033        -0.661057        0         0\n",
       "26    1.0  -0.063435        0.755241        -0.693737        1         0\n",
       "35    1.0  -0.752919       -1.555379        -0.096801        0         1\n",
       "17    1.0   0.391165        0.792062         0.546818        0         1\n",
       "7     1.0   1.229439        0.809756         0.891798        1         0"
      ]
     },
     "execution_count": 25,
     "metadata": {},
     "output_type": "execute_result"
    }
   ],
   "source": [
    "# Add a constant\n",
    "X_train_lm1 = sm.add_constant(X_train)\n",
    "X_train_lm1.head()"
   ]
  },
  {
   "cell_type": "code",
   "execution_count": 26,
   "id": "d3ffe026-a95c-438b-98b8-dee886433d9c",
   "metadata": {},
   "outputs": [],
   "source": [
    "# Create a first fitted model\n",
    "lr_1 = sm.OLS(y_train, X_train_lm1).fit()"
   ]
  },
  {
   "cell_type": "code",
   "execution_count": 27,
   "id": "ed739305-e6f1-4ae1-bcd6-ebeb9498fa7e",
   "metadata": {},
   "outputs": [
    {
     "name": "stdout",
     "output_type": "stream",
     "text": [
      "                            OLS Regression Results                            \n",
      "==============================================================================\n",
      "Dep. Variable:                 Profit   R-squared:                       0.966\n",
      "Model:                            OLS   Adj. R-squared:                  0.961\n",
      "Method:                 Least Squares   F-statistic:                     167.1\n",
      "Date:                Sat, 16 Apr 2022   Prob (F-statistic):           1.87e-20\n",
      "Time:                        13:01:56   Log-Likelihood:                 9.7478\n",
      "No. Observations:                  35   AIC:                            -7.496\n",
      "Df Residuals:                      29   BIC:                             1.837\n",
      "Df Model:                           5                                         \n",
      "Covariance Type:            nonrobust                                         \n",
      "===================================================================================\n",
      "                      coef    std err          t      P>|t|      [0.025      0.975]\n",
      "-----------------------------------------------------------------------------------\n",
      "const               0.0775      0.062      1.241      0.225      -0.050       0.205\n",
      "R&D Spend           0.9427      0.050     18.696      0.000       0.840       1.046\n",
      "Administration     -0.0188      0.037     -0.515      0.610      -0.094       0.056\n",
      "Marketing Spend     0.0719      0.049      1.455      0.156      -0.029       0.173\n",
      "Florida            -0.0866      0.089     -0.971      0.340      -0.269       0.096\n",
      "New York           -0.1395      0.086     -1.630      0.114      -0.315       0.036\n",
      "==============================================================================\n",
      "Omnibus:                        0.515   Durbin-Watson:                   2.640\n",
      "Prob(Omnibus):                  0.773   Jarque-Bera (JB):                0.388\n",
      "Skew:                          -0.245   Prob(JB):                        0.824\n",
      "Kurtosis:                       2.840   Cond. No.                         4.73\n",
      "==============================================================================\n",
      "\n",
      "Notes:\n",
      "[1] Standard Errors assume that the covariance matrix of the errors is correctly specified.\n"
     ]
    }
   ],
   "source": [
    "print(lr_1.summary())"
   ]
  },
  {
   "cell_type": "markdown",
   "id": "c0a5ced5-3eb5-41f9-8684-357606182a86",
   "metadata": {},
   "source": [
    "## Checking VIF"
   ]
  },
  {
   "cell_type": "code",
   "execution_count": 28,
   "id": "04ea01a1-292e-439c-9935-c35afe0970b8",
   "metadata": {},
   "outputs": [],
   "source": [
    "# Check for the VIF values of the feature variables. \n",
    "from statsmodels.stats.outliers_influence import variance_inflation_factor"
   ]
  },
  {
   "cell_type": "code",
   "execution_count": 29,
   "id": "bea66c3e-819f-4927-b31c-8005da736e3a",
   "metadata": {},
   "outputs": [
    {
     "data": {
      "text/html": [
       "<div>\n",
       "<style scoped>\n",
       "    .dataframe tbody tr th:only-of-type {\n",
       "        vertical-align: middle;\n",
       "    }\n",
       "\n",
       "    .dataframe tbody tr th {\n",
       "        vertical-align: top;\n",
       "    }\n",
       "\n",
       "    .dataframe thead th {\n",
       "        text-align: right;\n",
       "    }\n",
       "</style>\n",
       "<table border=\"1\" class=\"dataframe\">\n",
       "  <thead>\n",
       "    <tr style=\"text-align: right;\">\n",
       "      <th></th>\n",
       "      <th>Features</th>\n",
       "      <th>VIF</th>\n",
       "    </tr>\n",
       "  </thead>\n",
       "  <tbody>\n",
       "    <tr>\n",
       "      <th>0</th>\n",
       "      <td>R&amp;D Spend</td>\n",
       "      <td>2.16</td>\n",
       "    </tr>\n",
       "    <tr>\n",
       "      <th>2</th>\n",
       "      <td>Marketing Spend</td>\n",
       "      <td>2.11</td>\n",
       "    </tr>\n",
       "    <tr>\n",
       "      <th>1</th>\n",
       "      <td>Administration</td>\n",
       "      <td>1.12</td>\n",
       "    </tr>\n",
       "    <tr>\n",
       "      <th>3</th>\n",
       "      <td>Florida</td>\n",
       "      <td>1.07</td>\n",
       "    </tr>\n",
       "    <tr>\n",
       "      <th>4</th>\n",
       "      <td>New York</td>\n",
       "      <td>1.02</td>\n",
       "    </tr>\n",
       "  </tbody>\n",
       "</table>\n",
       "</div>"
      ],
      "text/plain": [
       "          Features   VIF\n",
       "0        R&D Spend  2.16\n",
       "2  Marketing Spend  2.11\n",
       "1   Administration  1.12\n",
       "3          Florida  1.07\n",
       "4         New York  1.02"
      ]
     },
     "execution_count": 29,
     "metadata": {},
     "output_type": "execute_result"
    }
   ],
   "source": [
    "# Create a dataframe that will contain the names of all the feature variables and their respective VIFs\n",
    "vif = pd.DataFrame()\n",
    "vif['Features'] = X_train.columns\n",
    "vif['VIF'] = [variance_inflation_factor(X_train.values, i) for i in range(X_train.shape[1])]\n",
    "vif['VIF'] = round(vif['VIF'], 2)\n",
    "vif = vif.sort_values(by = \"VIF\", ascending = False)\n",
    "vif"
   ]
  },
  {
   "cell_type": "markdown",
   "id": "bafcd246-db62-4d66-bb41-56235a801d7c",
   "metadata": {},
   "source": [
    "##  Dropping the variable and updating the model"
   ]
  },
  {
   "cell_type": "code",
   "execution_count": 30,
   "id": "72fea724-11cc-4cca-82f0-ca4ad4b7709d",
   "metadata": {},
   "outputs": [],
   "source": [
    "# Dropping highly correlated variables and insignificant variables\n",
    "X1 = X_train.drop('Administration', axis = 1)"
   ]
  },
  {
   "cell_type": "code",
   "execution_count": 31,
   "id": "14ab906e-8083-434b-8884-1e0d1e9b9a7e",
   "metadata": {},
   "outputs": [
    {
     "data": {
      "text/html": [
       "<div>\n",
       "<style scoped>\n",
       "    .dataframe tbody tr th:only-of-type {\n",
       "        vertical-align: middle;\n",
       "    }\n",
       "\n",
       "    .dataframe tbody tr th {\n",
       "        vertical-align: top;\n",
       "    }\n",
       "\n",
       "    .dataframe thead th {\n",
       "        text-align: right;\n",
       "    }\n",
       "</style>\n",
       "<table border=\"1\" class=\"dataframe\">\n",
       "  <thead>\n",
       "    <tr style=\"text-align: right;\">\n",
       "      <th></th>\n",
       "      <th>R&amp;D Spend</th>\n",
       "      <th>Marketing Spend</th>\n",
       "      <th>Florida</th>\n",
       "      <th>New York</th>\n",
       "    </tr>\n",
       "  </thead>\n",
       "  <tbody>\n",
       "    <tr>\n",
       "      <th>25</th>\n",
       "      <td>-0.314256</td>\n",
       "      <td>-0.661057</td>\n",
       "      <td>0</td>\n",
       "      <td>0</td>\n",
       "    </tr>\n",
       "    <tr>\n",
       "      <th>26</th>\n",
       "      <td>-0.063435</td>\n",
       "      <td>-0.693737</td>\n",
       "      <td>1</td>\n",
       "      <td>0</td>\n",
       "    </tr>\n",
       "    <tr>\n",
       "      <th>35</th>\n",
       "      <td>-0.752919</td>\n",
       "      <td>-0.096801</td>\n",
       "      <td>0</td>\n",
       "      <td>1</td>\n",
       "    </tr>\n",
       "    <tr>\n",
       "      <th>17</th>\n",
       "      <td>0.391165</td>\n",
       "      <td>0.546818</td>\n",
       "      <td>0</td>\n",
       "      <td>1</td>\n",
       "    </tr>\n",
       "    <tr>\n",
       "      <th>7</th>\n",
       "      <td>1.229439</td>\n",
       "      <td>0.891798</td>\n",
       "      <td>1</td>\n",
       "      <td>0</td>\n",
       "    </tr>\n",
       "  </tbody>\n",
       "</table>\n",
       "</div>"
      ],
      "text/plain": [
       "    R&D Spend  Marketing Spend  Florida  New York\n",
       "25  -0.314256        -0.661057        0         0\n",
       "26  -0.063435        -0.693737        1         0\n",
       "35  -0.752919        -0.096801        0         1\n",
       "17   0.391165         0.546818        0         1\n",
       "7    1.229439         0.891798        1         0"
      ]
     },
     "execution_count": 31,
     "metadata": {},
     "output_type": "execute_result"
    }
   ],
   "source": [
    "X1.head()"
   ]
  },
  {
   "cell_type": "code",
   "execution_count": 32,
   "id": "ffd5f430-0f3a-431a-900f-fb5a6ccb11d6",
   "metadata": {},
   "outputs": [],
   "source": [
    "# Build a second model\n",
    "\n",
    "X_train_lm2= sm.add_constant(X1)\n",
    "\n",
    "# X_train_lm2.head()\n",
    "lr_2 = sm.OLS(y_train, X_train_lm2).fit()"
   ]
  },
  {
   "cell_type": "code",
   "execution_count": 33,
   "id": "2445b861-c611-4e30-b5e6-8ba5d187d7f2",
   "metadata": {},
   "outputs": [
    {
     "name": "stdout",
     "output_type": "stream",
     "text": [
      "                            OLS Regression Results                            \n",
      "==============================================================================\n",
      "Dep. Variable:                 Profit   R-squared:                       0.966\n",
      "Model:                            OLS   Adj. R-squared:                  0.962\n",
      "Method:                 Least Squares   F-statistic:                     214.1\n",
      "Date:                Sat, 16 Apr 2022   Prob (F-statistic):           1.36e-21\n",
      "Time:                        13:09:21   Log-Likelihood:                 9.5881\n",
      "No. Observations:                  35   AIC:                            -9.176\n",
      "Df Residuals:                      30   BIC:                            -1.400\n",
      "Df Model:                           4                                         \n",
      "Covariance Type:            nonrobust                                         \n",
      "===================================================================================\n",
      "                      coef    std err          t      P>|t|      [0.025      0.975]\n",
      "-----------------------------------------------------------------------------------\n",
      "const               0.0722      0.061      1.186      0.245      -0.052       0.196\n",
      "R&D Spend           0.9346      0.047     19.754      0.000       0.838       1.031\n",
      "Marketing Spend     0.0764      0.048      1.592      0.122      -0.022       0.174\n",
      "Florida            -0.0764      0.086     -0.889      0.381      -0.252       0.099\n",
      "New York           -0.1341      0.084     -1.598      0.120      -0.305       0.037\n",
      "==============================================================================\n",
      "Omnibus:                        0.552   Durbin-Watson:                   2.602\n",
      "Prob(Omnibus):                  0.759   Jarque-Bera (JB):                0.256\n",
      "Skew:                          -0.209   Prob(JB):                        0.880\n",
      "Kurtosis:                       2.988   Cond. No.                         4.58\n",
      "==============================================================================\n",
      "\n",
      "Notes:\n",
      "[1] Standard Errors assume that the covariance matrix of the errors is correctly specified.\n"
     ]
    }
   ],
   "source": [
    "# Print the summary of the model\n",
    "print(lr_2.summary())"
   ]
  },
  {
   "cell_type": "code",
   "execution_count": 34,
   "id": "420cd418-8816-4e62-a744-8c1b38ca1294",
   "metadata": {},
   "outputs": [
    {
     "data": {
      "text/html": [
       "<div>\n",
       "<style scoped>\n",
       "    .dataframe tbody tr th:only-of-type {\n",
       "        vertical-align: middle;\n",
       "    }\n",
       "\n",
       "    .dataframe tbody tr th {\n",
       "        vertical-align: top;\n",
       "    }\n",
       "\n",
       "    .dataframe thead th {\n",
       "        text-align: right;\n",
       "    }\n",
       "</style>\n",
       "<table border=\"1\" class=\"dataframe\">\n",
       "  <thead>\n",
       "    <tr style=\"text-align: right;\">\n",
       "      <th></th>\n",
       "      <th>R&amp;D Spend</th>\n",
       "      <th>Marketing Spend</th>\n",
       "      <th>New York</th>\n",
       "    </tr>\n",
       "  </thead>\n",
       "  <tbody>\n",
       "    <tr>\n",
       "      <th>25</th>\n",
       "      <td>-0.314256</td>\n",
       "      <td>-0.661057</td>\n",
       "      <td>0</td>\n",
       "    </tr>\n",
       "    <tr>\n",
       "      <th>26</th>\n",
       "      <td>-0.063435</td>\n",
       "      <td>-0.693737</td>\n",
       "      <td>0</td>\n",
       "    </tr>\n",
       "    <tr>\n",
       "      <th>35</th>\n",
       "      <td>-0.752919</td>\n",
       "      <td>-0.096801</td>\n",
       "      <td>1</td>\n",
       "    </tr>\n",
       "    <tr>\n",
       "      <th>17</th>\n",
       "      <td>0.391165</td>\n",
       "      <td>0.546818</td>\n",
       "      <td>1</td>\n",
       "    </tr>\n",
       "    <tr>\n",
       "      <th>7</th>\n",
       "      <td>1.229439</td>\n",
       "      <td>0.891798</td>\n",
       "      <td>0</td>\n",
       "    </tr>\n",
       "  </tbody>\n",
       "</table>\n",
       "</div>"
      ],
      "text/plain": [
       "    R&D Spend  Marketing Spend  New York\n",
       "25  -0.314256        -0.661057         0\n",
       "26  -0.063435        -0.693737         0\n",
       "35  -0.752919        -0.096801         1\n",
       "17   0.391165         0.546818         1\n",
       "7    1.229439         0.891798         0"
      ]
     },
     "execution_count": 34,
     "metadata": {},
     "output_type": "execute_result"
    }
   ],
   "source": [
    "# Dropping highly correlated variables and insignificant variables\n",
    "X2 = X1.drop('Florida', axis = 1)\n",
    "X2.head()"
   ]
  },
  {
   "cell_type": "code",
   "execution_count": 35,
   "id": "9a53ac45-4343-4f98-bb4c-e6b479cf97a5",
   "metadata": {},
   "outputs": [],
   "source": [
    "# Build a second model\n",
    "\n",
    "X_train_lm3= sm.add_constant(X2)\n",
    "\n",
    "lr_3 = sm.OLS(y_train, X_train_lm3).fit()"
   ]
  },
  {
   "cell_type": "code",
   "execution_count": 36,
   "id": "9f7df645-b0cb-47c5-91d4-64b793d05582",
   "metadata": {},
   "outputs": [
    {
     "name": "stdout",
     "output_type": "stream",
     "text": [
      "                            OLS Regression Results                            \n",
      "==============================================================================\n",
      "Dep. Variable:                 Profit   R-squared:                       0.965\n",
      "Model:                            OLS   Adj. R-squared:                  0.962\n",
      "Method:                 Least Squares   F-statistic:                     287.1\n",
      "Date:                Sat, 16 Apr 2022   Prob (F-statistic):           1.08e-22\n",
      "Time:                        13:10:22   Log-Likelihood:                 9.1327\n",
      "No. Observations:                  35   AIC:                            -10.27\n",
      "Df Residuals:                      31   BIC:                            -4.044\n",
      "Df Model:                           3                                         \n",
      "Covariance Type:            nonrobust                                         \n",
      "===================================================================================\n",
      "                      coef    std err          t      P>|t|      [0.025      0.975]\n",
      "-----------------------------------------------------------------------------------\n",
      "const               0.0327      0.041      0.788      0.437      -0.052       0.117\n",
      "R&D Spend           0.9328      0.047     19.801      0.000       0.837       1.029\n",
      "Marketing Spend     0.0697      0.047      1.476      0.150      -0.027       0.166\n",
      "New York           -0.0953      0.071     -1.334      0.192      -0.241       0.050\n",
      "==============================================================================\n",
      "Omnibus:                        1.308   Durbin-Watson:                   2.507\n",
      "Prob(Omnibus):                  0.520   Jarque-Bera (JB):                0.737\n",
      "Skew:                          -0.352   Prob(JB):                        0.692\n",
      "Kurtosis:                       3.095   Cond. No.                         3.03\n",
      "==============================================================================\n",
      "\n",
      "Notes:\n",
      "[1] Standard Errors assume that the covariance matrix of the errors is correctly specified.\n"
     ]
    }
   ],
   "source": [
    "# Print the summary of the model\n",
    "print(lr_3.summary())"
   ]
  },
  {
   "cell_type": "code",
   "execution_count": 37,
   "id": "3fe3e74e-702b-4c9a-8fce-9371163764f1",
   "metadata": {},
   "outputs": [
    {
     "data": {
      "text/html": [
       "<div>\n",
       "<style scoped>\n",
       "    .dataframe tbody tr th:only-of-type {\n",
       "        vertical-align: middle;\n",
       "    }\n",
       "\n",
       "    .dataframe tbody tr th {\n",
       "        vertical-align: top;\n",
       "    }\n",
       "\n",
       "    .dataframe thead th {\n",
       "        text-align: right;\n",
       "    }\n",
       "</style>\n",
       "<table border=\"1\" class=\"dataframe\">\n",
       "  <thead>\n",
       "    <tr style=\"text-align: right;\">\n",
       "      <th></th>\n",
       "      <th>R&amp;D Spend</th>\n",
       "      <th>Marketing Spend</th>\n",
       "    </tr>\n",
       "  </thead>\n",
       "  <tbody>\n",
       "    <tr>\n",
       "      <th>25</th>\n",
       "      <td>-0.314256</td>\n",
       "      <td>-0.661057</td>\n",
       "    </tr>\n",
       "    <tr>\n",
       "      <th>26</th>\n",
       "      <td>-0.063435</td>\n",
       "      <td>-0.693737</td>\n",
       "    </tr>\n",
       "    <tr>\n",
       "      <th>35</th>\n",
       "      <td>-0.752919</td>\n",
       "      <td>-0.096801</td>\n",
       "    </tr>\n",
       "    <tr>\n",
       "      <th>17</th>\n",
       "      <td>0.391165</td>\n",
       "      <td>0.546818</td>\n",
       "    </tr>\n",
       "    <tr>\n",
       "      <th>7</th>\n",
       "      <td>1.229439</td>\n",
       "      <td>0.891798</td>\n",
       "    </tr>\n",
       "  </tbody>\n",
       "</table>\n",
       "</div>"
      ],
      "text/plain": [
       "    R&D Spend  Marketing Spend\n",
       "25  -0.314256        -0.661057\n",
       "26  -0.063435        -0.693737\n",
       "35  -0.752919        -0.096801\n",
       "17   0.391165         0.546818\n",
       "7    1.229439         0.891798"
      ]
     },
     "execution_count": 37,
     "metadata": {},
     "output_type": "execute_result"
    }
   ],
   "source": [
    "# Dropping highly correlated variables and insignificant variables\n",
    "X3 = X2.drop('New York', axis = 1)\n",
    "X3.head()"
   ]
  },
  {
   "cell_type": "code",
   "execution_count": 38,
   "id": "a820db48-d7b7-46bf-a16a-0edd117a0e72",
   "metadata": {},
   "outputs": [],
   "source": [
    "# Build a second model\n",
    "\n",
    "X_train_lm4= sm.add_constant(X3)\n",
    "\n",
    "lr_4 = sm.OLS(y_train, X_train_lm4).fit()"
   ]
  },
  {
   "cell_type": "code",
   "execution_count": 39,
   "id": "8e0933f4-f2e6-4deb-8acc-7dd21b5bef85",
   "metadata": {},
   "outputs": [
    {
     "name": "stdout",
     "output_type": "stream",
     "text": [
      "                            OLS Regression Results                            \n",
      "==============================================================================\n",
      "Dep. Variable:                 Profit   R-squared:                       0.963\n",
      "Model:                            OLS   Adj. R-squared:                  0.961\n",
      "Method:                 Least Squares   F-statistic:                     419.5\n",
      "Date:                Sat, 16 Apr 2022   Prob (F-statistic):           1.10e-23\n",
      "Time:                        13:11:01   Log-Likelihood:                 8.1556\n",
      "No. Observations:                  35   AIC:                            -10.31\n",
      "Df Residuals:                      32   BIC:                            -5.645\n",
      "Df Model:                           2                                         \n",
      "Covariance Type:            nonrobust                                         \n",
      "===================================================================================\n",
      "                      coef    std err          t      P>|t|      [0.025      0.975]\n",
      "-----------------------------------------------------------------------------------\n",
      "const            2.776e-16      0.034   8.19e-15      1.000      -0.069       0.069\n",
      "R&D Spend           0.9244      0.047     19.564      0.000       0.828       1.021\n",
      "Marketing Spend     0.0795      0.047      1.682      0.102      -0.017       0.176\n",
      "==============================================================================\n",
      "Omnibus:                        0.947   Durbin-Watson:                   2.510\n",
      "Prob(Omnibus):                  0.623   Jarque-Bera (JB):                0.722\n",
      "Skew:                          -0.343   Prob(JB):                        0.697\n",
      "Kurtosis:                       2.847   Cond. No.                         2.37\n",
      "==============================================================================\n",
      "\n",
      "Notes:\n",
      "[1] Standard Errors assume that the covariance matrix of the errors is correctly specified.\n"
     ]
    }
   ],
   "source": [
    "# Print the summary of the model\n",
    "print(lr_4.summary())"
   ]
  },
  {
   "cell_type": "code",
   "execution_count": 40,
   "id": "70cf0a87-729c-4ff1-931d-df9da15b9939",
   "metadata": {},
   "outputs": [
    {
     "data": {
      "text/html": [
       "<div>\n",
       "<style scoped>\n",
       "    .dataframe tbody tr th:only-of-type {\n",
       "        vertical-align: middle;\n",
       "    }\n",
       "\n",
       "    .dataframe tbody tr th {\n",
       "        vertical-align: top;\n",
       "    }\n",
       "\n",
       "    .dataframe thead th {\n",
       "        text-align: right;\n",
       "    }\n",
       "</style>\n",
       "<table border=\"1\" class=\"dataframe\">\n",
       "  <thead>\n",
       "    <tr style=\"text-align: right;\">\n",
       "      <th></th>\n",
       "      <th>R&amp;D Spend</th>\n",
       "    </tr>\n",
       "  </thead>\n",
       "  <tbody>\n",
       "    <tr>\n",
       "      <th>25</th>\n",
       "      <td>-0.314256</td>\n",
       "    </tr>\n",
       "    <tr>\n",
       "      <th>26</th>\n",
       "      <td>-0.063435</td>\n",
       "    </tr>\n",
       "    <tr>\n",
       "      <th>35</th>\n",
       "      <td>-0.752919</td>\n",
       "    </tr>\n",
       "    <tr>\n",
       "      <th>17</th>\n",
       "      <td>0.391165</td>\n",
       "    </tr>\n",
       "    <tr>\n",
       "      <th>7</th>\n",
       "      <td>1.229439</td>\n",
       "    </tr>\n",
       "  </tbody>\n",
       "</table>\n",
       "</div>"
      ],
      "text/plain": [
       "    R&D Spend\n",
       "25  -0.314256\n",
       "26  -0.063435\n",
       "35  -0.752919\n",
       "17   0.391165\n",
       "7    1.229439"
      ]
     },
     "execution_count": 40,
     "metadata": {},
     "output_type": "execute_result"
    }
   ],
   "source": [
    "# Dropping highly correlated variables and insignificant variables\n",
    "X4 = X3.drop('Marketing Spend', axis = 1)\n",
    "X4.head()"
   ]
  },
  {
   "cell_type": "code",
   "execution_count": 41,
   "id": "9f25f014-b4c8-4911-a6fe-cde699252194",
   "metadata": {},
   "outputs": [],
   "source": [
    "# Build a second model\n",
    "\n",
    "X_train_lm5= sm.add_constant(X4)\n",
    "\n",
    "lr_5 = sm.OLS(y_train, X_train_lm5).fit() "
   ]
  },
  {
   "cell_type": "code",
   "execution_count": 42,
   "id": "477932b4-4b00-4122-bdf1-91837e004d0c",
   "metadata": {},
   "outputs": [
    {
     "name": "stdout",
     "output_type": "stream",
     "text": [
      "                            OLS Regression Results                            \n",
      "==============================================================================\n",
      "Dep. Variable:                 Profit   R-squared:                       0.960\n",
      "Model:                            OLS   Adj. R-squared:                  0.959\n",
      "Method:                 Least Squares   F-statistic:                     792.2\n",
      "Date:                Sat, 16 Apr 2022   Prob (F-statistic):           1.20e-24\n",
      "Time:                        13:11:28   Log-Likelihood:                 6.6723\n",
      "No. Observations:                  35   AIC:                            -9.345\n",
      "Df Residuals:                      33   BIC:                            -6.234\n",
      "Df Model:                           1                                         \n",
      "Covariance Type:            nonrobust                                         \n",
      "==============================================================================\n",
      "                 coef    std err          t      P>|t|      [0.025      0.975]\n",
      "------------------------------------------------------------------------------\n",
      "const       2.776e-16      0.035   7.97e-15      1.000      -0.071       0.071\n",
      "R&D Spend      0.9798      0.035     28.147      0.000       0.909       1.051\n",
      "==============================================================================\n",
      "Omnibus:                        1.025   Durbin-Watson:                   2.584\n",
      "Prob(Omnibus):                  0.599   Jarque-Bera (JB):                0.682\n",
      "Skew:                          -0.341   Prob(JB):                        0.711\n",
      "Kurtosis:                       2.939   Cond. No.                         1.00\n",
      "==============================================================================\n",
      "\n",
      "Notes:\n",
      "[1] Standard Errors assume that the covariance matrix of the errors is correctly specified.\n"
     ]
    }
   ],
   "source": [
    "# Print the summary of the model\n",
    "print(lr_5.summary())"
   ]
  },
  {
   "cell_type": "code",
   "execution_count": null,
   "id": "13e6b3f8-1f14-469a-85d6-bb71bb8e8dde",
   "metadata": {},
   "outputs": [],
   "source": [
    "pred_train =  lr_3.predict(X_train_lm3)"
   ]
  },
  {
   "cell_type": "code",
   "execution_count": null,
   "id": "5b799d15-b7f4-4e76-97d1-4c28ee86020d",
   "metadata": {},
   "outputs": [],
   "source": [
    "# Plot the histogram of the error terms\n",
    "fig = plt.figure()\n",
    "sns.distplot((y_train - pred_train), bins = 10)\n",
    "fig.suptitle('Error Terms', fontsize = 20)                  # Plot heading \n",
    "plt.xlabel('Errors', fontsize = 18)                         # X-label\n",
    "# plt.savefig(\"Error\")"
   ]
  },
  {
   "cell_type": "code",
   "execution_count": null,
   "id": "c2f70545-88ff-4746-9234-178aa1eef13c",
   "metadata": {},
   "outputs": [],
   "source": [
    "# create dataframe from X, y for easier plot handling\n",
    "dataframe = pd.concat([X2, y_train], axis=1)\n",
    "# model values\n",
    "model_fitted_y = lr_3.fittedvalues\n",
    "# model residuals\n",
    "model_residuals = lr_3.resid\n",
    "# normalized residuals\n",
    "model_norm_residuals = lr_3.get_influence().resid_studentized_internal\n",
    "# absolute squared normalized residuals\n",
    "model_norm_residuals_abs_sqrt = np.sqrt(np.abs(model_norm_residuals))\n",
    "# absolute residuals\n",
    "model_abs_resid = np.abs(model_residuals)\n",
    "# leverage, from statsmodels internals\n",
    "model_leverage = lr_3.get_influence().hat_matrix_diag\n",
    "# cook's distance, from statsmodels internals\n",
    "model_cooks = lr_3.get_influence().cooks_distance[0]"
   ]
  },
  {
   "cell_type": "code",
   "execution_count": null,
   "id": "66d26a46-418f-44ed-9517-fb2032bd0198",
   "metadata": {},
   "outputs": [],
   "source": [
    "from statsmodels.graphics.gofplots import ProbPlot\n",
    "QQ = ProbPlot(model_norm_residuals)\n",
    "plot_lm_2 = QQ.qqplot(line='45', alpha=0.5, color='#4C72B0', lw=1)\n",
    "plot_lm_2.axes[0].set_title('Normal Q-Q')\n",
    "plot_lm_2.axes[0].set_xlabel('Theoretical Quantiles')\n",
    "plot_lm_2.axes[0].set_ylabel('Standardized Residuals');\n",
    "# annotations\n",
    "abs_norm_resid = np.flip(np.argsort(np.abs(model_norm_residuals)), 0)\n",
    "abs_norm_resid_top_3 = abs_norm_resid[:3]\n",
    "for r, i in enumerate(abs_norm_resid_top_3):\n",
    "    plot_lm_2.axes[0].annotate(i,\n",
    "                               xy=(np.flip(QQ.theoretical_quantiles, 0)[r],\n",
    "                                   model_norm_residuals[i]));"
   ]
  },
  {
   "cell_type": "code",
   "execution_count": null,
   "id": "e19a22b5-64a6-49f2-a206-68911513f17e",
   "metadata": {},
   "outputs": [],
   "source": [
    "plt.scatter(md_train.index, (y_train - pred_train))\n",
    "plt.suptitle('Pattern of Error Terms', fontsize = 20)  \n",
    "plt.xlabel('Observations', fontsize = 18) \n",
    "plt.ylabel(\"Residuals\", fontsize = 18)\n",
    "plt.axhline(y=0.0, color='r', linestyle='-')\n",
    "# plt.savefig(\"Pattern of Error Term\")"
   ]
  },
  {
   "cell_type": "code",
   "execution_count": null,
   "id": "f9c9b192-1e3f-482f-bc13-0ce663c411c6",
   "metadata": {},
   "outputs": [],
   "source": [
    "dataframe.head()"
   ]
  },
  {
   "cell_type": "code",
   "execution_count": null,
   "id": "39321c84-50a5-4ce7-8a47-6092ddcf5a4c",
   "metadata": {},
   "outputs": [],
   "source": [
    "plot_lm_1 = plt.figure()\n",
    "plot_lm_1.axes[0] = sns.residplot(model_fitted_y, dataframe.columns[-1], data=dataframe,\n",
    "                          lowess=True,\n",
    "                          scatter_kws={'alpha': 0.5},\n",
    "                          line_kws={'color': 'red', 'lw': 1, 'alpha': 0.8})\n",
    "\n",
    "plot_lm_1.axes[0].set_title('Residuals vs Fitted')\n",
    "plot_lm_1.axes[0].set_xlabel('Fitted values')\n",
    "plot_lm_1.axes[0].set_ylabel('Residuals');"
   ]
  },
  {
   "cell_type": "code",
   "execution_count": null,
   "id": "c04f10a7-d3d6-4492-b41b-1d4d67f84912",
   "metadata": {},
   "outputs": [],
   "source": [
    "# create dataframe from X, y for easier plot handling\n",
    "dataframe1 = pd.concat([X3, y_train], axis=1)\n",
    "# model values\n",
    "model_fitted_y = lr_4.fittedvalues\n",
    "# model residuals\n",
    "model_residuals = lr_4.resid\n",
    "# normalized residuals\n",
    "model_norm_residuals = lr_4.get_influence().resid_studentized_internal\n",
    "# absolute squared normalized residuals\n",
    "model_norm_residuals_abs_sqrt = np.sqrt(np.abs(model_norm_residuals))\n",
    "# absolute residuals\n",
    "model_abs_resid = np.abs(model_residuals)\n",
    "# leverage, from statsmodels internals\n",
    "model_leverage = lr_4.get_influence().hat_matrix_diag\n",
    "# cook's distance, from statsmodels internals\n",
    "model_cooks = lr_4.get_influence().cooks_distance[0]"
   ]
  },
  {
   "cell_type": "code",
   "execution_count": null,
   "id": "9b9e442d-b437-4238-858b-cc1f4f57a476",
   "metadata": {},
   "outputs": [],
   "source": [
    "pred_train2 = lr_4.predict(X_train_lm4)"
   ]
  },
  {
   "cell_type": "code",
   "execution_count": null,
   "id": "87d0f1ef-f396-49b5-90dd-c635c1528102",
   "metadata": {},
   "outputs": [],
   "source": [
    "# Plot the histogram of the error terms\n",
    "fig = plt.figure()\n",
    "sns.distplot((y_train - pred_train2), bins = 10)\n",
    "fig.suptitle('Error Terms', fontsize = 20)                  # Plot heading \n",
    "plt.xlabel('Errors', fontsize = 18)                         # X-label\n",
    "# plt.savefig(\"Error\")"
   ]
  },
  {
   "cell_type": "code",
   "execution_count": null,
   "id": "3462867f-df36-4b24-a6fa-675590fc8f09",
   "metadata": {},
   "outputs": [],
   "source": [
    "from statsmodels.graphics.gofplots import ProbPlot\n",
    "QQ = ProbPlot(model_norm_residuals)\n",
    "plot_lm_3 = QQ.qqplot(line='45', alpha=0.5, color='#4C72B0', lw=1)\n",
    "plot_lm_3.axes[0].set_title('Normal Q-Q')\n",
    "plot_lm_3.axes[0].set_xlabel('Theoretical Quantiles')\n",
    "plot_lm_3.axes[0].set_ylabel('Standardized Residuals');\n",
    "# annotations\n",
    "abs_norm_resid = np.flip(np.argsort(np.abs(model_norm_residuals)), 0)\n",
    "abs_norm_resid_top_3 = abs_norm_resid[:3]\n",
    "for r, i in enumerate(abs_norm_resid_top_3):\n",
    "    plot_lm_2.axes[0].annotate(i,\n",
    "                               xy=(np.flip(QQ.theoretical_quantiles, 0)[r],\n",
    "                                   model_norm_residuals[i]));"
   ]
  },
  {
   "cell_type": "code",
   "execution_count": null,
   "id": "2013ffe2-c64e-4c58-9500-9ea3d9220337",
   "metadata": {},
   "outputs": [],
   "source": [
    "plt.scatter(md_train.index, (y_train - pred_train2))\n",
    "plt.suptitle('Pattern of Error Terms', fontsize = 20)  \n",
    "plt.xlabel('Observations', fontsize = 18) \n",
    "plt.ylabel(\"Residuals\", fontsize = 18)\n",
    "plt.axhline(y=0.0, color='r', linestyle='-')\n",
    "# plt.savefig(\"Pattern of Error Term\")"
   ]
  },
  {
   "cell_type": "code",
   "execution_count": null,
   "id": "020a5920-d836-4f64-88c3-58a01bbf044c",
   "metadata": {},
   "outputs": [],
   "source": [
    "plot_lm_1 = plt.figure()\n",
    "plot_lm_1.axes[0] = sns.residplot(model_fitted_y, dataframe1.columns[-1], data=dataframe1,\n",
    "                          lowess=True,\n",
    "                          scatter_kws={'alpha': 0.5},\n",
    "                          line_kws={'color': 'red', 'lw': 1, 'alpha': 0.8})\n",
    "\n",
    "plot_lm_1.axes[0].set_title('Residuals vs Fitted')\n",
    "plot_lm_1.axes[0].set_xlabel('Fitted values')\n",
    "plot_lm_1.axes[0].set_ylabel('Residuals');"
   ]
  },
  {
   "cell_type": "code",
   "execution_count": null,
   "id": "30b72efb-3c36-483e-bb0d-f13098d49995",
   "metadata": {},
   "outputs": [],
   "source": [
    "mar_sp_sq_neg = -(md_train[\"Marketing Spend\"]**2)\n",
    "mar_sp_sq_neg.head()"
   ]
  },
  {
   "cell_type": "code",
   "execution_count": null,
   "id": "57641b7e-506a-43f9-bfb0-8cb832711c19",
   "metadata": {},
   "outputs": [],
   "source": [
    "X2_sq = X2.drop('Marketing Spend', axis = 1)\n",
    "X2_sq.head()"
   ]
  },
  {
   "cell_type": "code",
   "execution_count": null,
   "id": "7c275485-b0a5-4dd0-9d85-0d7490ea0fef",
   "metadata": {},
   "outputs": [],
   "source": [
    "X2_sq = pd.concat([X2_sq, mar_sp_sq_neg], axis = 1)"
   ]
  },
  {
   "cell_type": "code",
   "execution_count": null,
   "id": "21cd14e2-0f07-44a7-a114-71f8c07217a1",
   "metadata": {},
   "outputs": [],
   "source": [
    "X2_sq.head()"
   ]
  },
  {
   "cell_type": "code",
   "execution_count": null,
   "id": "e4e55b89-85bf-409c-aecc-561a9346a611",
   "metadata": {},
   "outputs": [],
   "source": [
    "X_train_lm_sq= sm.add_constant(X2_sq)\n",
    "\n",
    "lr_sq = sm.OLS(y_train, X_train_lm_sq).fit()"
   ]
  },
  {
   "cell_type": "code",
   "execution_count": null,
   "id": "5b0aa9b2-bef4-478a-b8d7-b30f30d36429",
   "metadata": {},
   "outputs": [],
   "source": [
    "print(lr_sq.summary())"
   ]
  },
  {
   "cell_type": "code",
   "execution_count": null,
   "id": "c05a7d1c-f0c2-4013-ae18-22d6d3738fbb",
   "metadata": {},
   "outputs": [],
   "source": [
    "# create dataframe from X, y for easier plot handling\n",
    "dataframe2 = pd.concat([X2_sq, y_train], axis=1)\n",
    "# model values\n",
    "model_fitted_y = lr_sq.fittedvalues\n",
    "# model residuals\n",
    "model_residuals = lr_sq.resid\n",
    "# normalized residuals\n",
    "model_norm_residuals = lr_sq.get_influence().resid_studentized_internal\n",
    "# absolute squared normalized residuals\n",
    "model_norm_residuals_abs_sqrt = np.sqrt(np.abs(model_norm_residuals))\n",
    "# absolute residuals\n",
    "model_abs_resid = np.abs(model_residuals)\n",
    "# leverage, from statsmodels internals\n",
    "model_leverage = lr_sq.get_influence().hat_matrix_diag\n",
    "# cook's distance, from statsmodels internals\n",
    "model_cooks = lr_sq.get_influence().cooks_distance[0]"
   ]
  },
  {
   "cell_type": "code",
   "execution_count": null,
   "id": "09b5a1b8-de79-4252-aa71-857d3c8a3c18",
   "metadata": {},
   "outputs": [],
   "source": [
    "plot_lm_1 = plt.figure()\n",
    "plot_lm_1.axes[0] = sns.residplot(model_fitted_y, dataframe2.columns[-1], data=dataframe2,\n",
    "                          lowess=True,\n",
    "                          scatter_kws={'alpha': 0.5},\n",
    "                          line_kws={'color': 'red', 'lw': 1, 'alpha': 0.8})\n",
    "\n",
    "plot_lm_1.axes[0].set_title('Residuals vs Fitted')\n",
    "plot_lm_1.axes[0].set_xlabel('Fitted values')\n",
    "plot_lm_1.axes[0].set_ylabel('Residuals');"
   ]
  },
  {
   "cell_type": "code",
   "execution_count": null,
   "id": "d6c9c3f5-ba38-4236-bd5a-f0cc917a8bad",
   "metadata": {},
   "outputs": [],
   "source": []
  }
 ],
 "metadata": {
  "kernelspec": {
   "display_name": "Python 3",
   "language": "python",
   "name": "python3"
  },
  "language_info": {
   "codemirror_mode": {
    "name": "ipython",
    "version": 3
   },
   "file_extension": ".py",
   "mimetype": "text/x-python",
   "name": "python",
   "nbconvert_exporter": "python",
   "pygments_lexer": "ipython3",
   "version": "3.8.8"
  }
 },
 "nbformat": 4,
 "nbformat_minor": 5
}
