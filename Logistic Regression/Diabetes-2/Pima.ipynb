{
 "cells": [
  {
   "cell_type": "markdown",
   "id": "01a5738b-4ed3-4247-a4a9-e0251c74899e",
   "metadata": {},
   "source": [
    "# PIMA INDIAN HERITAGE"
   ]
  },
  {
   "cell_type": "markdown",
   "id": "86403352-1c0f-417b-8e32-5bf2ca0dd01f",
   "metadata": {},
   "source": [
    "A population of women who were at least 21 years old, of Pima Indian heritage and living near Phoenix, Arizona, was tested for diabetes according to World Health Organization criteria. The data was collected by the US National Institute of Diabetes and Digestive and Kidney Diseases. You have been provided with a cleaned up version of that data, containing 392 observations in the following file."
   ]
  },
  {
   "cell_type": "code",
   "execution_count": 1,
   "id": "caef35f6-f056-45f7-b563-fad64bcfc5c7",
   "metadata": {},
   "outputs": [],
   "source": [
    "# Suppressing Warnings\n",
    "import warnings\n",
    "warnings.filterwarnings('ignore')"
   ]
  },
  {
   "cell_type": "code",
   "execution_count": 2,
   "id": "f9902de0-dd60-4b83-86f9-ab012f75ce40",
   "metadata": {},
   "outputs": [],
   "source": [
    "# Importing Pandas and NumPy\n",
    "import pandas as pd, numpy as np"
   ]
  },
  {
   "cell_type": "code",
   "execution_count": 3,
   "id": "d9eb53e4-56a2-4595-90c3-0952597e55be",
   "metadata": {},
   "outputs": [
    {
     "data": {
      "text/html": [
       "<div>\n",
       "<style scoped>\n",
       "    .dataframe tbody tr th:only-of-type {\n",
       "        vertical-align: middle;\n",
       "    }\n",
       "\n",
       "    .dataframe tbody tr th {\n",
       "        vertical-align: top;\n",
       "    }\n",
       "\n",
       "    .dataframe thead th {\n",
       "        text-align: right;\n",
       "    }\n",
       "</style>\n",
       "<table border=\"1\" class=\"dataframe\">\n",
       "  <thead>\n",
       "    <tr style=\"text-align: right;\">\n",
       "      <th></th>\n",
       "      <th>No_Times_Pregnant</th>\n",
       "      <th>Plasma_Glucose</th>\n",
       "      <th>Diastolic_BP</th>\n",
       "      <th>Triceps</th>\n",
       "      <th>Insulin</th>\n",
       "      <th>BMI</th>\n",
       "      <th>Age</th>\n",
       "      <th>Diabetes</th>\n",
       "    </tr>\n",
       "  </thead>\n",
       "  <tbody>\n",
       "    <tr>\n",
       "      <th>0</th>\n",
       "      <td>1</td>\n",
       "      <td>89</td>\n",
       "      <td>66</td>\n",
       "      <td>23</td>\n",
       "      <td>94</td>\n",
       "      <td>28.1</td>\n",
       "      <td>21</td>\n",
       "      <td>0</td>\n",
       "    </tr>\n",
       "    <tr>\n",
       "      <th>1</th>\n",
       "      <td>0</td>\n",
       "      <td>137</td>\n",
       "      <td>40</td>\n",
       "      <td>35</td>\n",
       "      <td>168</td>\n",
       "      <td>43.1</td>\n",
       "      <td>33</td>\n",
       "      <td>1</td>\n",
       "    </tr>\n",
       "    <tr>\n",
       "      <th>2</th>\n",
       "      <td>3</td>\n",
       "      <td>78</td>\n",
       "      <td>50</td>\n",
       "      <td>32</td>\n",
       "      <td>88</td>\n",
       "      <td>31.0</td>\n",
       "      <td>26</td>\n",
       "      <td>1</td>\n",
       "    </tr>\n",
       "    <tr>\n",
       "      <th>3</th>\n",
       "      <td>2</td>\n",
       "      <td>197</td>\n",
       "      <td>70</td>\n",
       "      <td>45</td>\n",
       "      <td>543</td>\n",
       "      <td>30.5</td>\n",
       "      <td>53</td>\n",
       "      <td>1</td>\n",
       "    </tr>\n",
       "    <tr>\n",
       "      <th>4</th>\n",
       "      <td>1</td>\n",
       "      <td>189</td>\n",
       "      <td>60</td>\n",
       "      <td>23</td>\n",
       "      <td>846</td>\n",
       "      <td>30.1</td>\n",
       "      <td>59</td>\n",
       "      <td>1</td>\n",
       "    </tr>\n",
       "  </tbody>\n",
       "</table>\n",
       "</div>"
      ],
      "text/plain": [
       "   No_Times_Pregnant  Plasma_Glucose  Diastolic_BP  Triceps  Insulin   BMI  \\\n",
       "0                  1              89            66       23       94  28.1   \n",
       "1                  0             137            40       35      168  43.1   \n",
       "2                  3              78            50       32       88  31.0   \n",
       "3                  2             197            70       45      543  30.5   \n",
       "4                  1             189            60       23      846  30.1   \n",
       "\n",
       "   Age  Diabetes  \n",
       "0   21         0  \n",
       "1   33         1  \n",
       "2   26         1  \n",
       "3   53         1  \n",
       "4   59         1  "
      ]
     },
     "execution_count": 3,
     "metadata": {},
     "output_type": "execute_result"
    }
   ],
   "source": [
    "md = pd.read_csv(\"pima_indian_diabetes.csv\")\n",
    "md.head()"
   ]
  },
  {
   "cell_type": "code",
   "execution_count": 4,
   "id": "5530bd3c-e588-4892-b598-7ebb8bfac4df",
   "metadata": {},
   "outputs": [
    {
     "name": "stdout",
     "output_type": "stream",
     "text": [
      "<class 'pandas.core.frame.DataFrame'>\n",
      "RangeIndex: 392 entries, 0 to 391\n",
      "Data columns (total 8 columns):\n",
      " #   Column             Non-Null Count  Dtype  \n",
      "---  ------             --------------  -----  \n",
      " 0   No_Times_Pregnant  392 non-null    int64  \n",
      " 1   Plasma_Glucose     392 non-null    int64  \n",
      " 2   Diastolic_BP       392 non-null    int64  \n",
      " 3   Triceps            392 non-null    int64  \n",
      " 4   Insulin            392 non-null    int64  \n",
      " 5   BMI                392 non-null    float64\n",
      " 6   Age                392 non-null    int64  \n",
      " 7   Diabetes           392 non-null    int64  \n",
      "dtypes: float64(1), int64(7)\n",
      "memory usage: 24.6 KB\n"
     ]
    }
   ],
   "source": [
    "md.info()"
   ]
  },
  {
   "cell_type": "code",
   "execution_count": 6,
   "id": "5fb3a3e4-937f-440a-aa2e-5a10c7023ea8",
   "metadata": {},
   "outputs": [
    {
     "data": {
      "text/plain": [
       "array([ 1,  0,  3,  2,  5, 11, 10, 13,  4,  9,  8,  7, 15,  6, 17, 12, 14],\n",
       "      dtype=int64)"
      ]
     },
     "execution_count": 6,
     "metadata": {},
     "output_type": "execute_result"
    }
   ],
   "source": [
    "md['No_Times_Pregnant'].unique()"
   ]
  },
  {
   "cell_type": "markdown",
   "id": "1e6b9b3b-73aa-46c4-ae8b-fd8bfcc85713",
   "metadata": {},
   "source": [
    "## Train - Test Split"
   ]
  },
  {
   "cell_type": "code",
   "execution_count": 7,
   "id": "90b34a16-dda8-433d-817f-4bb673a7cbdb",
   "metadata": {},
   "outputs": [],
   "source": [
    "from sklearn.model_selection import train_test_split"
   ]
  },
  {
   "cell_type": "code",
   "execution_count": 8,
   "id": "8858b94e-3b6b-4931-b6c2-5d1062f0a9ba",
   "metadata": {},
   "outputs": [
    {
     "name": "stdout",
     "output_type": "stream",
     "text": [
      "(274, 8)\n",
      "(118, 8)\n"
     ]
    }
   ],
   "source": [
    "# from sklearn.model_selection import train_test_split\n",
    "\n",
    "# We specify this so that the train and test data set always have the same rows, respectively\n",
    "# np.random.seed(0)\n",
    "md_train, md_test = train_test_split(md, train_size = 0.7, test_size = 0.3, \n",
    "                                     random_state = 100)\n",
    "print(md_train.shape)\n",
    "print(md_test.shape)"
   ]
  },
  {
   "cell_type": "code",
   "execution_count": 9,
   "id": "0521b858-7192-442a-bb81-178e398f82ec",
   "metadata": {},
   "outputs": [],
   "source": [
    "# Importing matplotlib and seaborn\n",
    "import matplotlib.pyplot as plt\n",
    "import seaborn as sns\n",
    "%matplotlib inline"
   ]
  },
  {
   "cell_type": "code",
   "execution_count": 10,
   "id": "fe9cf5e3-f44e-4b96-bcee-c238b596306d",
   "metadata": {},
   "outputs": [
    {
     "data": {
      "image/png": "[encoded data removed]",
      "text/plain": [
       "<Figure size 1440x720 with 2 Axes>"
      ]
     },
     "metadata": {
      "needs_background": "light"
     },
     "output_type": "display_data"
    }
   ],
   "source": [
    "# Let's see the correlation matrix \n",
    "plt.figure(figsize = (20,10))        # Size of the figure\n",
    "sns.heatmap(md_train.corr(),annot = True)\n",
    "plt.show()"
   ]
  },
  {
   "cell_type": "markdown",
   "id": "38e86ef9-d3e0-4825-a7d0-00bf9454e3b3",
   "metadata": {},
   "source": [
    "## Feature Scaling"
   ]
  },
  {
   "cell_type": "code",
   "execution_count": 11,
   "id": "b9f2990c-0004-497e-b86c-f564fe114c9d",
   "metadata": {},
   "outputs": [],
   "source": [
    "from sklearn.preprocessing import StandardScaler"
   ]
  },
  {
   "cell_type": "code",
   "execution_count": 12,
   "id": "67149904-597a-48e4-be2f-c8a1715e22c2",
   "metadata": {},
   "outputs": [
    {
     "data": {
      "text/html": [
       "<div>\n",
       "<style scoped>\n",
       "    .dataframe tbody tr th:only-of-type {\n",
       "        vertical-align: middle;\n",
       "    }\n",
       "\n",
       "    .dataframe tbody tr th {\n",
       "        vertical-align: top;\n",
       "    }\n",
       "\n",
       "    .dataframe thead th {\n",
       "        text-align: right;\n",
       "    }\n",
       "</style>\n",
       "<table border=\"1\" class=\"dataframe\">\n",
       "  <thead>\n",
       "    <tr style=\"text-align: right;\">\n",
       "      <th></th>\n",
       "      <th>No_Times_Pregnant</th>\n",
       "      <th>Plasma_Glucose</th>\n",
       "      <th>Diastolic_BP</th>\n",
       "      <th>Triceps</th>\n",
       "      <th>Insulin</th>\n",
       "      <th>BMI</th>\n",
       "      <th>Age</th>\n",
       "      <th>Diabetes</th>\n",
       "    </tr>\n",
       "  </thead>\n",
       "  <tbody>\n",
       "    <tr>\n",
       "      <th>169</th>\n",
       "      <td>1.815945</td>\n",
       "      <td>0.957700</td>\n",
       "      <td>0.567715</td>\n",
       "      <td>0.470846</td>\n",
       "      <td>0.087700</td>\n",
       "      <td>0.124473</td>\n",
       "      <td>0.279158</td>\n",
       "      <td>1</td>\n",
       "    </tr>\n",
       "    <tr>\n",
       "      <th>265</th>\n",
       "      <td>0.873580</td>\n",
       "      <td>0.211296</td>\n",
       "      <td>1.537905</td>\n",
       "      <td>-2.077303</td>\n",
       "      <td>1.358030</td>\n",
       "      <td>-1.912926</td>\n",
       "      <td>3.018166</td>\n",
       "      <td>0</td>\n",
       "    </tr>\n",
       "    <tr>\n",
       "      <th>386</th>\n",
       "      <td>-0.697030</td>\n",
       "      <td>-0.048323</td>\n",
       "      <td>0.567715</td>\n",
       "      <td>0.942726</td>\n",
       "      <td>-0.707281</td>\n",
       "      <td>0.794302</td>\n",
       "      <td>-0.228066</td>\n",
       "      <td>0</td>\n",
       "    </tr>\n",
       "    <tr>\n",
       "      <th>241</th>\n",
       "      <td>0.873580</td>\n",
       "      <td>1.022605</td>\n",
       "      <td>0.567715</td>\n",
       "      <td>1.131478</td>\n",
       "      <td>-0.166366</td>\n",
       "      <td>1.785092</td>\n",
       "      <td>-0.329510</td>\n",
       "      <td>0</td>\n",
       "    </tr>\n",
       "    <tr>\n",
       "      <th>249</th>\n",
       "      <td>-0.697030</td>\n",
       "      <td>0.535819</td>\n",
       "      <td>-0.725872</td>\n",
       "      <td>1.131478</td>\n",
       "      <td>2.620165</td>\n",
       "      <td>1.031534</td>\n",
       "      <td>-0.938179</td>\n",
       "      <td>0</td>\n",
       "    </tr>\n",
       "  </tbody>\n",
       "</table>\n",
       "</div>"
      ],
      "text/plain": [
       "     No_Times_Pregnant  Plasma_Glucose  Diastolic_BP   Triceps   Insulin  \\\n",
       "169           1.815945        0.957700      0.567715  0.470846  0.087700   \n",
       "265           0.873580        0.211296      1.537905 -2.077303  1.358030   \n",
       "386          -0.697030       -0.048323      0.567715  0.942726 -0.707281   \n",
       "241           0.873580        1.022605      0.567715  1.131478 -0.166366   \n",
       "249          -0.697030        0.535819     -0.725872  1.131478  2.620165   \n",
       "\n",
       "          BMI       Age  Diabetes  \n",
       "169  0.124473  0.279158         1  \n",
       "265 -1.912926  3.018166         0  \n",
       "386  0.794302 -0.228066         0  \n",
       "241  1.785092 -0.329510         0  \n",
       "249  1.031534 -0.938179         0  "
      ]
     },
     "execution_count": 12,
     "metadata": {},
     "output_type": "execute_result"
    }
   ],
   "source": [
    "scaler = StandardScaler()\n",
    "\n",
    "md_train[['No_Times_Pregnant','Plasma_Glucose','Diastolic_BP', 'Triceps', 'Insulin', 'BMI', 'Age']] = scaler.fit_transform(md_train[['No_Times_Pregnant','Plasma_Glucose','Diastolic_BP', 'Triceps', 'Insulin', 'BMI', 'Age']])\n",
    "\n",
    "md_train.head()"
   ]
  },
  {
   "cell_type": "code",
   "execution_count": 13,
   "id": "e7af1b10-dee0-48bb-86a0-a093fdb08af7",
   "metadata": {},
   "outputs": [
    {
     "data": {
      "text/html": [
       "<div>\n",
       "<style scoped>\n",
       "    .dataframe tbody tr th:only-of-type {\n",
       "        vertical-align: middle;\n",
       "    }\n",
       "\n",
       "    .dataframe tbody tr th {\n",
       "        vertical-align: top;\n",
       "    }\n",
       "\n",
       "    .dataframe thead th {\n",
       "        text-align: right;\n",
       "    }\n",
       "</style>\n",
       "<table border=\"1\" class=\"dataframe\">\n",
       "  <thead>\n",
       "    <tr style=\"text-align: right;\">\n",
       "      <th></th>\n",
       "      <th>No_Times_Pregnant</th>\n",
       "      <th>Plasma_Glucose</th>\n",
       "      <th>Diastolic_BP</th>\n",
       "      <th>Triceps</th>\n",
       "      <th>Insulin</th>\n",
       "      <th>BMI</th>\n",
       "      <th>Age</th>\n",
       "      <th>Diabetes</th>\n",
       "    </tr>\n",
       "  </thead>\n",
       "  <tbody>\n",
       "    <tr>\n",
       "      <th>count</th>\n",
       "      <td>2.740000e+02</td>\n",
       "      <td>2.740000e+02</td>\n",
       "      <td>2.740000e+02</td>\n",
       "      <td>2.740000e+02</td>\n",
       "      <td>2.740000e+02</td>\n",
       "      <td>2.740000e+02</td>\n",
       "      <td>2.740000e+02</td>\n",
       "      <td>274.000000</td>\n",
       "    </tr>\n",
       "    <tr>\n",
       "      <th>mean</th>\n",
       "      <td>2.998413e-17</td>\n",
       "      <td>-6.797077e-17</td>\n",
       "      <td>-3.515537e-16</td>\n",
       "      <td>-1.348273e-16</td>\n",
       "      <td>2.188031e-17</td>\n",
       "      <td>6.229810e-16</td>\n",
       "      <td>-6.756558e-17</td>\n",
       "      <td>0.335766</td>\n",
       "    </tr>\n",
       "    <tr>\n",
       "      <th>std</th>\n",
       "      <td>1.001830e+00</td>\n",
       "      <td>1.001830e+00</td>\n",
       "      <td>1.001830e+00</td>\n",
       "      <td>1.001830e+00</td>\n",
       "      <td>1.001830e+00</td>\n",
       "      <td>1.001830e+00</td>\n",
       "      <td>1.001830e+00</td>\n",
       "      <td>0.473122</td>\n",
       "    </tr>\n",
       "    <tr>\n",
       "      <th>min</th>\n",
       "      <td>-1.011151e+00</td>\n",
       "      <td>-2.157727e+00</td>\n",
       "      <td>-3.313046e+00</td>\n",
       "      <td>-2.077303e+00</td>\n",
       "      <td>-1.190826e+00</td>\n",
       "      <td>-2.108294e+00</td>\n",
       "      <td>-9.381786e-01</td>\n",
       "      <td>0.000000</td>\n",
       "    </tr>\n",
       "    <tr>\n",
       "      <th>25%</th>\n",
       "      <td>-6.970296e-01</td>\n",
       "      <td>-7.622751e-01</td>\n",
       "      <td>-7.258723e-01</td>\n",
       "      <td>-8.268226e-01</td>\n",
       "      <td>-6.744984e-01</td>\n",
       "      <td>-6.569955e-01</td>\n",
       "      <td>-7.352891e-01</td>\n",
       "      <td>0.000000</td>\n",
       "    </tr>\n",
       "    <tr>\n",
       "      <th>50%</th>\n",
       "      <td>-3.829077e-01</td>\n",
       "      <td>-1.132279e-01</td>\n",
       "      <td>1.770420e-03</td>\n",
       "      <td>-1.033313e-03</td>\n",
       "      <td>-2.770080e-01</td>\n",
       "      <td>-1.120457e-03</td>\n",
       "      <td>-4.309550e-01</td>\n",
       "      <td>0.000000</td>\n",
       "    </tr>\n",
       "    <tr>\n",
       "      <th>75%</th>\n",
       "      <td>5.594579e-01</td>\n",
       "      <td>6.656287e-01</td>\n",
       "      <td>7.294132e-01</td>\n",
       "      <td>7.539740e-01</td>\n",
       "      <td>2.721025e-01</td>\n",
       "      <td>5.605598e-01</td>\n",
       "      <td>4.820476e-01</td>\n",
       "      <td>1.000000</td>\n",
       "    </tr>\n",
       "    <tr>\n",
       "      <th>max</th>\n",
       "      <td>4.328920e+00</td>\n",
       "      <td>2.385604e+00</td>\n",
       "      <td>3.154889e+00</td>\n",
       "      <td>2.924620e+00</td>\n",
       "      <td>5.619783e+00</td>\n",
       "      <td>4.715598e+00</td>\n",
       "      <td>3.322500e+00</td>\n",
       "      <td>1.000000</td>\n",
       "    </tr>\n",
       "  </tbody>\n",
       "</table>\n",
       "</div>"
      ],
      "text/plain": [
       "       No_Times_Pregnant  Plasma_Glucose  Diastolic_BP       Triceps  \\\n",
       "count       2.740000e+02    2.740000e+02  2.740000e+02  2.740000e+02   \n",
       "mean        2.998413e-17   -6.797077e-17 -3.515537e-16 -1.348273e-16   \n",
       "std         1.001830e+00    1.001830e+00  1.001830e+00  1.001830e+00   \n",
       "min        -1.011151e+00   -2.157727e+00 -3.313046e+00 -2.077303e+00   \n",
       "25%        -6.970296e-01   -7.622751e-01 -7.258723e-01 -8.268226e-01   \n",
       "50%        -3.829077e-01   -1.132279e-01  1.770420e-03 -1.033313e-03   \n",
       "75%         5.594579e-01    6.656287e-01  7.294132e-01  7.539740e-01   \n",
       "max         4.328920e+00    2.385604e+00  3.154889e+00  2.924620e+00   \n",
       "\n",
       "            Insulin           BMI           Age    Diabetes  \n",
       "count  2.740000e+02  2.740000e+02  2.740000e+02  274.000000  \n",
       "mean   2.188031e-17  6.229810e-16 -6.756558e-17    0.335766  \n",
       "std    1.001830e+00  1.001830e+00  1.001830e+00    0.473122  \n",
       "min   -1.190826e+00 -2.108294e+00 -9.381786e-01    0.000000  \n",
       "25%   -6.744984e-01 -6.569955e-01 -7.352891e-01    0.000000  \n",
       "50%   -2.770080e-01 -1.120457e-03 -4.309550e-01    0.000000  \n",
       "75%    2.721025e-01  5.605598e-01  4.820476e-01    1.000000  \n",
       "max    5.619783e+00  4.715598e+00  3.322500e+00    1.000000  "
      ]
     },
     "execution_count": 13,
     "metadata": {},
     "output_type": "execute_result"
    }
   ],
   "source": [
    "md_train.describe()"
   ]
  },
  {
   "cell_type": "markdown",
   "id": "b7fa1ce6-6c6b-4b2d-8e3b-c0bd2e571f15",
   "metadata": {},
   "source": [
    "## Dividing into X and Y sets for the model building"
   ]
  },
  {
   "cell_type": "code",
   "execution_count": 14,
   "id": "6f833ca4-127d-4d36-b272-43e23b805344",
   "metadata": {},
   "outputs": [],
   "source": [
    "y_train = md_train.pop('Diabetes')\n",
    "X_train = md_train"
   ]
  },
  {
   "cell_type": "code",
   "execution_count": 15,
   "id": "aaee6029-5edd-4cc4-986a-b495df4cfdad",
   "metadata": {},
   "outputs": [
    {
     "data": {
      "text/plain": [
       "169    1\n",
       "265    0\n",
       "386    0\n",
       "241    0\n",
       "249    0\n",
       "Name: Diabetes, dtype: int64"
      ]
     },
     "execution_count": 15,
     "metadata": {},
     "output_type": "execute_result"
    }
   ],
   "source": [
    "y_train.head()"
   ]
  },
  {
   "cell_type": "code",
   "execution_count": 16,
   "id": "9123819e-79ea-4c97-a2e0-053d19023e6d",
   "metadata": {},
   "outputs": [
    {
     "data": {
      "text/html": [
       "<div>\n",
       "<style scoped>\n",
       "    .dataframe tbody tr th:only-of-type {\n",
       "        vertical-align: middle;\n",
       "    }\n",
       "\n",
       "    .dataframe tbody tr th {\n",
       "        vertical-align: top;\n",
       "    }\n",
       "\n",
       "    .dataframe thead th {\n",
       "        text-align: right;\n",
       "    }\n",
       "</style>\n",
       "<table border=\"1\" class=\"dataframe\">\n",
       "  <thead>\n",
       "    <tr style=\"text-align: right;\">\n",
       "      <th></th>\n",
       "      <th>No_Times_Pregnant</th>\n",
       "      <th>Plasma_Glucose</th>\n",
       "      <th>Diastolic_BP</th>\n",
       "      <th>Triceps</th>\n",
       "      <th>Insulin</th>\n",
       "      <th>BMI</th>\n",
       "      <th>Age</th>\n",
       "    </tr>\n",
       "  </thead>\n",
       "  <tbody>\n",
       "    <tr>\n",
       "      <th>169</th>\n",
       "      <td>1.815945</td>\n",
       "      <td>0.957700</td>\n",
       "      <td>0.567715</td>\n",
       "      <td>0.470846</td>\n",
       "      <td>0.087700</td>\n",
       "      <td>0.124473</td>\n",
       "      <td>0.279158</td>\n",
       "    </tr>\n",
       "    <tr>\n",
       "      <th>265</th>\n",
       "      <td>0.873580</td>\n",
       "      <td>0.211296</td>\n",
       "      <td>1.537905</td>\n",
       "      <td>-2.077303</td>\n",
       "      <td>1.358030</td>\n",
       "      <td>-1.912926</td>\n",
       "      <td>3.018166</td>\n",
       "    </tr>\n",
       "    <tr>\n",
       "      <th>386</th>\n",
       "      <td>-0.697030</td>\n",
       "      <td>-0.048323</td>\n",
       "      <td>0.567715</td>\n",
       "      <td>0.942726</td>\n",
       "      <td>-0.707281</td>\n",
       "      <td>0.794302</td>\n",
       "      <td>-0.228066</td>\n",
       "    </tr>\n",
       "    <tr>\n",
       "      <th>241</th>\n",
       "      <td>0.873580</td>\n",
       "      <td>1.022605</td>\n",
       "      <td>0.567715</td>\n",
       "      <td>1.131478</td>\n",
       "      <td>-0.166366</td>\n",
       "      <td>1.785092</td>\n",
       "      <td>-0.329510</td>\n",
       "    </tr>\n",
       "    <tr>\n",
       "      <th>249</th>\n",
       "      <td>-0.697030</td>\n",
       "      <td>0.535819</td>\n",
       "      <td>-0.725872</td>\n",
       "      <td>1.131478</td>\n",
       "      <td>2.620165</td>\n",
       "      <td>1.031534</td>\n",
       "      <td>-0.938179</td>\n",
       "    </tr>\n",
       "  </tbody>\n",
       "</table>\n",
       "</div>"
      ],
      "text/plain": [
       "     No_Times_Pregnant  Plasma_Glucose  Diastolic_BP   Triceps   Insulin  \\\n",
       "169           1.815945        0.957700      0.567715  0.470846  0.087700   \n",
       "265           0.873580        0.211296      1.537905 -2.077303  1.358030   \n",
       "386          -0.697030       -0.048323      0.567715  0.942726 -0.707281   \n",
       "241           0.873580        1.022605      0.567715  1.131478 -0.166366   \n",
       "249          -0.697030        0.535819     -0.725872  1.131478  2.620165   \n",
       "\n",
       "          BMI       Age  \n",
       "169  0.124473  0.279158  \n",
       "265 -1.912926  3.018166  \n",
       "386  0.794302 -0.228066  \n",
       "241  1.785092 -0.329510  \n",
       "249  1.031534 -0.938179  "
      ]
     },
     "execution_count": 16,
     "metadata": {},
     "output_type": "execute_result"
    }
   ],
   "source": [
    "X_train.head()"
   ]
  },
  {
   "cell_type": "markdown",
   "id": "7b1bd0e2-f8a5-4223-86bf-96d7b0a9c652",
   "metadata": {},
   "source": [
    "## Building a Logistic Model"
   ]
  },
  {
   "cell_type": "code",
   "execution_count": 17,
   "id": "d8c7a59f-093f-4bbd-a84c-f647e92927c9",
   "metadata": {},
   "outputs": [],
   "source": [
    "import statsmodels.api as sm"
   ]
  },
  {
   "cell_type": "code",
   "execution_count": 18,
   "id": "c2fee006-d371-42d5-a2c3-15b7065b9f1e",
   "metadata": {},
   "outputs": [
    {
     "data": {
      "text/html": [
       "<table class=\"simpletable\">\n",
       "<caption>Generalized Linear Model Regression Results</caption>\n",
       "<tr>\n",
       "  <th>Dep. Variable:</th>       <td>Diabetes</td>     <th>  No. Observations:  </th>  <td>   274</td> \n",
       "</tr>\n",
       "<tr>\n",
       "  <th>Model:</th>                  <td>GLM</td>       <th>  Df Residuals:      </th>  <td>   266</td> \n",
       "</tr>\n",
       "<tr>\n",
       "  <th>Model Family:</th>        <td>Binomial</td>     <th>  Df Model:          </th>  <td>     7</td> \n",
       "</tr>\n",
       "<tr>\n",
       "  <th>Link Function:</th>         <td>logit</td>      <th>  Scale:             </th> <td>  1.0000</td>\n",
       "</tr>\n",
       "<tr>\n",
       "  <th>Method:</th>                <td>IRLS</td>       <th>  Log-Likelihood:    </th> <td> -122.11</td>\n",
       "</tr>\n",
       "<tr>\n",
       "  <th>Date:</th>            <td>Sat, 16 Apr 2022</td> <th>  Deviance:          </th> <td>  244.22</td>\n",
       "</tr>\n",
       "<tr>\n",
       "  <th>Time:</th>                <td>13:25:19</td>     <th>  Pearson chi2:      </th>  <td>  264.</td> \n",
       "</tr>\n",
       "<tr>\n",
       "  <th>No. Iterations:</th>          <td>5</td>        <th>                     </th>     <td> </td>   \n",
       "</tr>\n",
       "<tr>\n",
       "  <th>Covariance Type:</th>     <td>nonrobust</td>    <th>                     </th>     <td> </td>   \n",
       "</tr>\n",
       "</table>\n",
       "<table class=\"simpletable\">\n",
       "<tr>\n",
       "          <td></td>             <th>coef</th>     <th>std err</th>      <th>z</th>      <th>P>|z|</th>  <th>[0.025</th>    <th>0.975]</th>  \n",
       "</tr>\n",
       "<tr>\n",
       "  <th>const</th>             <td>   -0.9713</td> <td>    0.170</td> <td>   -5.719</td> <td> 0.000</td> <td>   -1.304</td> <td>   -0.638</td>\n",
       "</tr>\n",
       "<tr>\n",
       "  <th>No_Times_Pregnant</th> <td>    0.2917</td> <td>    0.210</td> <td>    1.386</td> <td> 0.166</td> <td>   -0.121</td> <td>    0.704</td>\n",
       "</tr>\n",
       "<tr>\n",
       "  <th>Plasma_Glucose</th>    <td>    1.2614</td> <td>    0.216</td> <td>    5.851</td> <td> 0.000</td> <td>    0.839</td> <td>    1.684</td>\n",
       "</tr>\n",
       "<tr>\n",
       "  <th>Diastolic_BP</th>      <td>   -0.0746</td> <td>    0.174</td> <td>   -0.429</td> <td> 0.668</td> <td>   -0.415</td> <td>    0.266</td>\n",
       "</tr>\n",
       "<tr>\n",
       "  <th>Triceps</th>           <td>    0.1371</td> <td>    0.205</td> <td>    0.668</td> <td> 0.504</td> <td>   -0.265</td> <td>    0.539</td>\n",
       "</tr>\n",
       "<tr>\n",
       "  <th>Insulin</th>           <td>   -0.1305</td> <td>    0.179</td> <td>   -0.728</td> <td> 0.467</td> <td>   -0.482</td> <td>    0.221</td>\n",
       "</tr>\n",
       "<tr>\n",
       "  <th>BMI</th>               <td>    0.4634</td> <td>    0.215</td> <td>    2.151</td> <td> 0.031</td> <td>    0.041</td> <td>    0.886</td>\n",
       "</tr>\n",
       "<tr>\n",
       "  <th>Age</th>               <td>    0.3631</td> <td>    0.224</td> <td>    1.624</td> <td> 0.104</td> <td>   -0.075</td> <td>    0.801</td>\n",
       "</tr>\n",
       "</table>"
      ],
      "text/plain": [
       "<class 'statsmodels.iolib.summary.Summary'>\n",
       "\"\"\"\n",
       "                 Generalized Linear Model Regression Results                  \n",
       "==============================================================================\n",
       "Dep. Variable:               Diabetes   No. Observations:                  274\n",
       "Model:                            GLM   Df Residuals:                      266\n",
       "Model Family:                Binomial   Df Model:                            7\n",
       "Link Function:                  logit   Scale:                          1.0000\n",
       "Method:                          IRLS   Log-Likelihood:                -122.11\n",
       "Date:                Sat, 16 Apr 2022   Deviance:                       244.22\n",
       "Time:                        13:25:19   Pearson chi2:                     264.\n",
       "No. Iterations:                     5                                         \n",
       "Covariance Type:            nonrobust                                         \n",
       "=====================================================================================\n",
       "                        coef    std err          z      P>|z|      [0.025      0.975]\n",
       "-------------------------------------------------------------------------------------\n",
       "const                -0.9713      0.170     -5.719      0.000      -1.304      -0.638\n",
       "No_Times_Pregnant     0.2917      0.210      1.386      0.166      -0.121       0.704\n",
       "Plasma_Glucose        1.2614      0.216      5.851      0.000       0.839       1.684\n",
       "Diastolic_BP         -0.0746      0.174     -0.429      0.668      -0.415       0.266\n",
       "Triceps               0.1371      0.205      0.668      0.504      -0.265       0.539\n",
       "Insulin              -0.1305      0.179     -0.728      0.467      -0.482       0.221\n",
       "BMI                   0.4634      0.215      2.151      0.031       0.041       0.886\n",
       "Age                   0.3631      0.224      1.624      0.104      -0.075       0.801\n",
       "=====================================================================================\n",
       "\"\"\""
      ]
     },
     "execution_count": 18,
     "metadata": {},
     "output_type": "execute_result"
    }
   ],
   "source": [
    "# Logistic regression model\n",
    "logm1 = sm.GLM(y_train,(sm.add_constant(X_train)), family = sm.families.Binomial())\n",
    "logm1.fit().summary()"
   ]
  },
  {
   "cell_type": "markdown",
   "id": "eaff5ccb-7283-429d-bd3e-b469f9e89c2d",
   "metadata": {},
   "source": [
    "## Feature Selection Using RFE"
   ]
  },
  {
   "cell_type": "code",
   "execution_count": 19,
   "id": "28cef2f9-7746-42b4-bb10-6bb1e033b5be",
   "metadata": {},
   "outputs": [],
   "source": [
    "from sklearn.linear_model import LogisticRegression\n",
    "logreg = LogisticRegression()"
   ]
  },
  {
   "cell_type": "code",
   "execution_count": 20,
   "id": "17b503e4-9627-408e-815a-f3f3fa746ef6",
   "metadata": {},
   "outputs": [],
   "source": [
    "from sklearn.feature_selection import RFE\n",
    "rfe = RFE(logreg, 5)             # running RFE with 15 variables as output\n",
    "rfe = rfe.fit(X_train, y_train)"
   ]
  },
  {
   "cell_type": "code",
   "execution_count": 21,
   "id": "be83ee20-c494-419d-8572-4569bcf1970c",
   "metadata": {},
   "outputs": [
    {
     "data": {
      "text/plain": [
       "[('No_Times_Pregnant', True, 1),\n",
       " ('Plasma_Glucose', True, 1),\n",
       " ('Diastolic_BP', False, 3),\n",
       " ('Triceps', True, 1),\n",
       " ('Insulin', False, 2),\n",
       " ('BMI', True, 1),\n",
       " ('Age', True, 1)]"
      ]
     },
     "execution_count": 21,
     "metadata": {},
     "output_type": "execute_result"
    }
   ],
   "source": [
    "list(zip(X_train.columns, rfe.support_, rfe.ranking_))"
   ]
  },
  {
   "cell_type": "code",
   "execution_count": null,
   "id": "6c15da3d-8850-4010-be0d-ec2edd6e32f1",
   "metadata": {},
   "outputs": [],
   "source": []
  }
 ],
 "metadata": {
  "kernelspec": {
   "display_name": "Python 3",
   "language": "python",
   "name": "python3"
  },
  "language_info": {
   "codemirror_mode": {
    "name": "ipython",
    "version": 3
   },
   "file_extension": ".py",
   "mimetype": "text/x-python",
   "name": "python",
   "nbconvert_exporter": "python",
   "pygments_lexer": "ipython3",
   "version": "3.8.8"
  }
 },
 "nbformat": 4,
 "nbformat_minor": 5
}
